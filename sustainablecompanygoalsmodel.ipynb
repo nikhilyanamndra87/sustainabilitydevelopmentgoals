{
  "nbformat": 4,
  "nbformat_minor": 0,
  "metadata": {
    "colab": {
      "name": "sustainablecompanygoalsmodel.ipynb",
      "provenance": [],
      "collapsed_sections": []
    },
    "kernelspec": {
      "display_name": "Python 3",
      "name": "python3"
    },
    "language_info": {
      "name": "python"
    },
    "accelerator": "TPU"
  },
  "cells": [
    {
      "cell_type": "code",
      "metadata": {
        "id": "XrFkCO7BtDbU"
      },
      "source": [
        ""
      ],
      "execution_count": 1,
      "outputs": []
    },
    {
      "cell_type": "code",
      "metadata": {
        "id": "lC8pWUlTQfNe"
      },
      "source": [
        "#importing list type from typing library\n",
        "from typing import List\n",
        "from textwrap import wrap\n"
      ],
      "execution_count": 2,
      "outputs": []
    },
    {
      "cell_type": "code",
      "metadata": {
        "id": "9DkbwgioLJzW"
      },
      "source": [
        "#importing numpy and pandas library for data preparation\n",
        "import numpy as np\n",
        "import pandas as pd"
      ],
      "execution_count": 3,
      "outputs": []
    },
    {
      "cell_type": "code",
      "metadata": {
        "id": "ORRJMBuBNm1M"
      },
      "source": [
        "#importing visualization library for this application\n",
        "import matplotlib.pyplot as plt\n",
        "import seaborn as sns"
      ],
      "execution_count": 4,
      "outputs": []
    },
    {
      "cell_type": "code",
      "metadata": {
        "id": "Txn4iBWANxny"
      },
      "source": [
        "#taking metrics from sklearn library\n",
        "from sklearn.metrics import confusion_matrix, f1_score, accuracy_score"
      ],
      "execution_count": 5,
      "outputs": []
    },
    {
      "cell_type": "code",
      "metadata": {
        "id": "8aUdEuBdN1OL"
      },
      "source": [
        "#setting up bacground \n",
        "sns.set(style = 'darkgrid',\n",
        "        palette = 'pastel',\n",
        "        font_scale = 2,\n",
        "        rc = {\n",
        "            'figure.figsize': (14,10),\n",
        "            'axes.labelsize':16\n",
        "        })"
      ],
      "execution_count": 6,
      "outputs": []
    },
    {
      "cell_type": "markdown",
      "metadata": {
        "id": "S4lWS1uzTZNR"
      },
      "source": [
        "here we are making a confusion_matrix to evaluate the models and their accuracy "
      ]
    },
    {
      "cell_type": "code",
      "metadata": {
        "id": "iUAx_h3HN406"
      },
      "source": [
        "def confusion_matrix(ytrue: np.ndarray, yhat: np.ndarray, figsize = (15, 10)):\n",
        "    # Getting labels\n",
        "    labels = sorted(list(set(ytrue)))\n",
        "    \n",
        "    # Creating confusion matrix\n",
        "    osmodel = pd.DataFrame(confusion_matrix(ytrue, y_hat), index = labels, columns = labels)\n",
        "    \n",
        "    # Accuracy and F1-score\n",
        "    acc = accuracy_score(y_true, y_hat)\n",
        "    f1s = f1_score(y_true, y_hat, average = 'weighted')\n",
        "    \n",
        "    # Ploting Confusin matrix\n",
        "    fig, ax = plt.subplots(figsize = figsize)\n",
        "    sns.heatmap(osmodel, annot = True, square = True, fmt = 'd', linewidths = 1,cbar = False, cmap = 'Paired', ax = ax)\n",
        "    ax.set(title = f'Accuracy: {acc:.2f}, F1 score: {f1s:.2f}', xlabel = 'Predicted', ylabel = 'Actual')\n",
        "    fig.suptitle('Confusion Matrix')\n",
        "    plt.tight_layout()\n"
      ],
      "execution_count": 7,
      "outputs": []
    },
    {
      "cell_type": "markdown",
      "metadata": {
        "id": "YNeV4I_JTixa"
      },
      "source": [
        "here we are taking out the top features that are having more accuracy and for this i am using get_top_features fuction"
      ]
    },
    {
      "cell_type": "code",
      "metadata": {
        "id": "rqGYZzfYN8JM"
      },
      "source": [
        "def get_top_features(vectoriser, clf, selector = None, top_n: int = 25, how: str = 'long'):\n",
        "    \"\"\"\n",
        "    Convenience function to extract top_n predictor per class from a model.\n",
        "    \"\"\"\n",
        "\n",
        "    assert hasattr(vectoriser, 'get_feature_names')\n",
        "    assert hasattr(clf, 'coef_')\n",
        "    assert hasattr(selector, 'get_support')\n",
        "    assert how in {'long', 'wide'}, f'how must be either long or wide not {how}'\n",
        "\n",
        "    features = vectoriser.get_feature_names_out()\n",
        "    if selector is not None:\n",
        "        features = features[selector.get_support()]\n",
        "    axis_names = [f'freature_{x + 1}' for x in range(top_n)]\n",
        "\n",
        "    if len(clf.classes_) > 2:\n",
        "        results = list()\n",
        "        for c, coefs in zip(clf.classes_, clf.coef_):\n",
        "            idx = coefs.argsort()[::-1][:top_n]\n",
        "            results.extend(tuple(zip([c] * top_n, features[idx], coefs[idx])))\n",
        "    else:\n",
        "        coefs = clf.coef_.flatten()\n",
        "        idx = coefs.argsort()[::-1][:top_n]\n",
        "        results = tuple(zip([clf.classes_[1]] * top_n, features[idx], coefs[idx]))\n",
        "\n",
        "    dflambda = pd.DataFrame(results, columns =  ['sdg', 'feature', 'coef'])\n",
        "\n",
        "    if how == 'wide':\n",
        "        dflambda = pd.DataFrame(\n",
        "            np.array_split(dflambda['feature'].values, len(dflambda) / top_n),\n",
        "            index = clf.classes_ if len(clf.classes_) > 2 else [clf.classes_[1]],\n",
        "            columns = axis_names\n",
        "        )\n",
        "\n",
        "    return dflambda\n"
      ],
      "execution_count": 8,
      "outputs": []
    },
    {
      "cell_type": "code",
      "metadata": {
        "id": "kwmI5kxhrNBP"
      },
      "source": [
        "#defining the 1sustainable development goals and here we are taking 15 goals\n",
        "def fixsdgname(sdg: str, width: int = 30) -> str:\n",
        "    sdg_id2name = {\n",
        "        1: 'GOAL 1: No Poverty',\n",
        "        2: 'GOAL 2: Zero Hunger',\n",
        "        3: 'GOAL 3: Good Health and Well-being',\n",
        "        4: 'GOAL 4: Quality Education',\n",
        "        5: 'GOAL 5: Gender Equality',\n",
        "        6: 'GOAL 6: Clean Water and Sanitation',\n",
        "        7: 'GOAL 7: Affordable and Clean Energy',\n",
        "        8: 'GOAL 8: Decent Work and Economic Growth',\n",
        "        9: 'GOAL 9: Industry, Innovation and Infrastructure',\n",
        "        10: 'GOAL 10: Reduced Inequality',\n",
        "        11: 'GOAL 11: Sustainable Cities and Communities',\n",
        "        12: 'GOAL 12: Responsible Consumption and Production',\n",
        "        13: 'GOAL 13: Climate Action',\n",
        "        14: 'GOAL 14: Life Below Water',\n",
        "        15: 'GOAL 15: Life on Land',\n",
        "        16: 'GOAL 16: Peace and Justice Strong Institutions',\n",
        "        17: 'GOAL 17: Partnerships to achieve the Goal'\n",
        "    }\n",
        "    name = sdg_id2name[int(sdg)]\n",
        "    return '<br>'.join(wrap(name, 30))"
      ],
      "execution_count": 9,
      "outputs": []
    },
    {
      "cell_type": "code",
      "metadata": {
        "id": "qJggT6XB7JXT",
        "colab": {
          "base_uri": "https://localhost:8080/"
        },
        "outputId": "39bf0631-9229-409c-f8fe-9ca3d8f4cd44"
      },
      "source": [
        "#importing all the libraries that are requitred for this dataset and aevaluation\n",
        "from typing import List\n",
        "import numpy as np\n",
        "import pandas as pd\n",
        "import plotly.express as px\n",
        "import spacy\n",
        "import nltk\n",
        "from sklearn.model_selection import train_test_split\n",
        "from sklearn.feature_extraction.text import CountVectorizer, TfidfVectorizer\n",
        "from sklearn.feature_selection import SelectKBest, chi2, f_classif\n",
        "from sklearn.linear_model import LogisticRegression\n",
        "from sklearn.pipeline import Pipeline\n",
        "from sklearn.metrics import confusion_matrix, classification_report, accuracy_score, top_k_accuracy_score, f1_score\n",
        "from sklearn.ensemble import RandomForestClassifier\n",
        "from sklearn.svm import SVC\n",
        "from sklearn.ensemble import GradientBoostingClassifier\n",
        "import re\n",
        "nltk.download('stopwords')\n",
        "nltk.download('punkt')\n",
        "from nltk.tokenize import word_tokenize\n",
        "sns.set_theme()\n"
      ],
      "execution_count": 11,
      "outputs": [
        {
          "output_type": "stream",
          "name": "stdout",
          "text": [
            "[nltk_data] Downloading package stopwords to /root/nltk_data...\n",
            "[nltk_data]   Unzipping corpora/stopwords.zip.\n",
            "[nltk_data] Downloading package punkt to /root/nltk_data...\n",
            "[nltk_data]   Unzipping tokenizers/punkt.zip.\n"
          ]
        }
      ]
    },
    {
      "cell_type": "code",
      "metadata": {
        "id": "UkH--LjV_7uI",
        "colab": {
          "base_uri": "https://localhost:8080/",
          "height": 206
        },
        "outputId": "28dbc45a-b0af-4c76-b73b-944ae0abbabc"
      },
      "source": [
        "#downloading the dataset and imprting into this notebook this is the community dataset developed by so many researchers and it is aopensouirce community dataset and we will make a pretrained model on this\n",
        "from tqdm import tqdm\n",
        "osmodel = pd.read_csv('https://zenodo.org/record/5550238/files/osdg-community-dataset-v21-09-30.csv?download=1') \n",
        "osmodel.head()"
      ],
      "execution_count": 12,
      "outputs": [
        {
          "output_type": "execute_result",
          "data": {
            "text/html": [
              "<div>\n",
              "<style scoped>\n",
              "    .dataframe tbody tr th:only-of-type {\n",
              "        vertical-align: middle;\n",
              "    }\n",
              "\n",
              "    .dataframe tbody tr th {\n",
              "        vertical-align: top;\n",
              "    }\n",
              "\n",
              "    .dataframe thead th {\n",
              "        text-align: right;\n",
              "    }\n",
              "</style>\n",
              "<table border=\"1\" class=\"dataframe\">\n",
              "  <thead>\n",
              "    <tr style=\"text-align: right;\">\n",
              "      <th></th>\n",
              "      <th>doi</th>\n",
              "      <th>text_id</th>\n",
              "      <th>text</th>\n",
              "      <th>sdg</th>\n",
              "      <th>labels_negative</th>\n",
              "      <th>labels_positive</th>\n",
              "      <th>agreement</th>\n",
              "    </tr>\n",
              "  </thead>\n",
              "  <tbody>\n",
              "    <tr>\n",
              "      <th>0</th>\n",
              "      <td>10.6027/9789289342698-7-en</td>\n",
              "      <td>00021941702cd84171ff33962197ca1f</td>\n",
              "      <td>From a gender perspective, Paulgaard points ou...</td>\n",
              "      <td>5</td>\n",
              "      <td>1</td>\n",
              "      <td>7</td>\n",
              "      <td>0.750000</td>\n",
              "    </tr>\n",
              "    <tr>\n",
              "      <th>1</th>\n",
              "      <td>10.18356/eca72908-en</td>\n",
              "      <td>00028349a7f9b2485ff344ae44ccfd6b</td>\n",
              "      <td>Labour legislation regulates maximum working h...</td>\n",
              "      <td>11</td>\n",
              "      <td>2</td>\n",
              "      <td>1</td>\n",
              "      <td>0.333333</td>\n",
              "    </tr>\n",
              "    <tr>\n",
              "      <th>2</th>\n",
              "      <td>10.1787/9789264289062-4-en</td>\n",
              "      <td>0004eb64f96e1620cd852603d9cbe4d4</td>\n",
              "      <td>The average figure also masks large difference...</td>\n",
              "      <td>3</td>\n",
              "      <td>1</td>\n",
              "      <td>6</td>\n",
              "      <td>0.714286</td>\n",
              "    </tr>\n",
              "    <tr>\n",
              "      <th>3</th>\n",
              "      <td>10.1787/5k9b7bn5qzvd-en</td>\n",
              "      <td>0006a887475ccfa5a7f5f51d4ac83d02</td>\n",
              "      <td>The extent to which they are akin to corruptio...</td>\n",
              "      <td>3</td>\n",
              "      <td>1</td>\n",
              "      <td>2</td>\n",
              "      <td>0.333333</td>\n",
              "    </tr>\n",
              "    <tr>\n",
              "      <th>4</th>\n",
              "      <td>10.1787/9789264258211-6-en</td>\n",
              "      <td>0006d6e7593776abbdf4a6f985ea6d95</td>\n",
              "      <td>A region reporting a higher rate will not earn...</td>\n",
              "      <td>3</td>\n",
              "      <td>2</td>\n",
              "      <td>2</td>\n",
              "      <td>0.000000</td>\n",
              "    </tr>\n",
              "  </tbody>\n",
              "</table>\n",
              "</div>"
            ],
            "text/plain": [
              "                          doi  ... agreement\n",
              "0  10.6027/9789289342698-7-en  ...  0.750000\n",
              "1        10.18356/eca72908-en  ...  0.333333\n",
              "2  10.1787/9789264289062-4-en  ...  0.714286\n",
              "3     10.1787/5k9b7bn5qzvd-en  ...  0.333333\n",
              "4  10.1787/9789264258211-6-en  ...  0.000000\n",
              "\n",
              "[5 rows x 7 columns]"
            ]
          },
          "metadata": {},
          "execution_count": 12
        }
      ]
    },
    {
      "cell_type": "markdown",
      "metadata": {
        "id": "2km9dc7dU0Ld"
      },
      "source": [
        "so here we can see that so many labels are there and negative labels ratio is higher than positive labels ratio and so we are going to take agreement value and train on these features"
      ]
    },
    {
      "cell_type": "code",
      "metadata": {
        "id": "wYytYztvAHdz",
        "colab": {
          "base_uri": "https://localhost:8080/"
        },
        "outputId": "b1138213-17d6-408c-d0ca-e5b7b616debc"
      },
      "source": [
        "#printing the info about the model \n",
        "print(osmodel.info())\n",
        "print(osmodel.isna())\n",
        "print(osmodel.shape)\n",
        "osmodel.head()\n",
        "sorted(osmodel[\"sdg\"].unique())\n",
        "textsentence = osmodel.text.values"
      ],
      "execution_count": 14,
      "outputs": [
        {
          "output_type": "stream",
          "name": "stdout",
          "text": [
            "<class 'pandas.core.frame.DataFrame'>\n",
            "RangeIndex: 32121 entries, 0 to 32120\n",
            "Data columns (total 7 columns):\n",
            " #   Column           Non-Null Count  Dtype  \n",
            "---  ------           --------------  -----  \n",
            " 0   doi              32121 non-null  object \n",
            " 1   text_id          32121 non-null  object \n",
            " 2   text             32121 non-null  object \n",
            " 3   sdg              32121 non-null  int64  \n",
            " 4   labels_negative  32121 non-null  int64  \n",
            " 5   labels_positive  32121 non-null  int64  \n",
            " 6   agreement        32121 non-null  float64\n",
            "dtypes: float64(1), int64(3), object(3)\n",
            "memory usage: 1.7+ MB\n",
            "None\n",
            "         doi  text_id   text  ...  labels_negative  labels_positive  agreement\n",
            "0      False    False  False  ...            False            False      False\n",
            "1      False    False  False  ...            False            False      False\n",
            "2      False    False  False  ...            False            False      False\n",
            "3      False    False  False  ...            False            False      False\n",
            "4      False    False  False  ...            False            False      False\n",
            "...      ...      ...    ...  ...              ...              ...        ...\n",
            "32116  False    False  False  ...            False            False      False\n",
            "32117  False    False  False  ...            False            False      False\n",
            "32118  False    False  False  ...            False            False      False\n",
            "32119  False    False  False  ...            False            False      False\n",
            "32120  False    False  False  ...            False            False      False\n",
            "\n",
            "[32121 rows x 7 columns]\n",
            "(32121, 7)\n"
          ]
        }
      ]
    },
    {
      "cell_type": "code",
      "metadata": {
        "id": "Us_D7eMfBX-h",
        "colab": {
          "base_uri": "https://localhost:8080/",
          "height": 112
        },
        "outputId": "2e45f5df-68dc-42b1-fc3c-65cb2bdd797e"
      },
      "source": [
        "#finding out the cumulative sum and agreeement\n",
        "osdgcum = osmodel['agreement'].value_counts(normalize=True).sort_index().cumsum().to_frame(name='probabilitysum')\n",
        "osdgcum.reset_index(inplace=True)\n",
        "osdgcum.rename({'index':'agreement'},axis = 1, inplace=True)\n",
        "osdgcum.shape\n",
        "osdgcum.head(2)"
      ],
      "execution_count": 18,
      "outputs": [
        {
          "output_type": "execute_result",
          "data": {
            "text/html": [
              "<div>\n",
              "<style scoped>\n",
              "    .dataframe tbody tr th:only-of-type {\n",
              "        vertical-align: middle;\n",
              "    }\n",
              "\n",
              "    .dataframe tbody tr th {\n",
              "        vertical-align: top;\n",
              "    }\n",
              "\n",
              "    .dataframe thead th {\n",
              "        text-align: right;\n",
              "    }\n",
              "</style>\n",
              "<table border=\"1\" class=\"dataframe\">\n",
              "  <thead>\n",
              "    <tr style=\"text-align: right;\">\n",
              "      <th></th>\n",
              "      <th>agreement</th>\n",
              "      <th>probabilitysum</th>\n",
              "    </tr>\n",
              "  </thead>\n",
              "  <tbody>\n",
              "    <tr>\n",
              "      <th>0</th>\n",
              "      <td>0.600000</td>\n",
              "      <td>0.043289</td>\n",
              "    </tr>\n",
              "    <tr>\n",
              "      <th>1</th>\n",
              "      <td>0.636364</td>\n",
              "      <td>0.043347</td>\n",
              "    </tr>\n",
              "  </tbody>\n",
              "</table>\n",
              "</div>"
            ],
            "text/plain": [
              "   agreement  probabilitysum\n",
              "0   0.600000        0.043289\n",
              "1   0.636364        0.043347"
            ]
          },
          "metadata": {},
          "execution_count": 18
        }
      ]
    },
    {
      "cell_type": "code",
      "metadata": {
        "id": "0wyfKD1vNxFU",
        "colab": {
          "base_uri": "https://localhost:8080/",
          "height": 542
        },
        "outputId": "7e56587d-fa7f-43a0-f84f-41d76bedcd77"
      },
      "source": [
        "#taking out a figure plot for cumulative probablility and agreement score\n",
        "fig = px.line(\n",
        "    data_frame = osdgcum,\n",
        "    x = 'agreement',\n",
        "    y = 'probabilitysum',\n",
        "  \n",
        "    labels = {\n",
        "        'agreement': 'Agreement Score',\n",
        "        'probabilitysum': 'Cumulative Probrability'\n",
        "    },\n",
        "  \n",
        ")\n",
        "\n",
        "fig.update_traces(hovertemplate = 'Agreement score: %{x:.2f}<br>Cumulative probability: %{y:.2f}')\n",
        "fig.update_layout(\n",
        "    xaxis = {'dtick': 0.1},\n",
        "    yaxis = {'dtick': 0.25}\n",
        ")\n",
        "fig.show()"
      ],
      "execution_count": 16,
      "outputs": [
        {
          "output_type": "display_data",
          "data": {
            "text/html": [
              "<html>\n",
              "<head><meta charset=\"utf-8\" /></head>\n",
              "<body>\n",
              "    <div>\n",
              "            <script src=\"https://cdnjs.cloudflare.com/ajax/libs/mathjax/2.7.5/MathJax.js?config=TeX-AMS-MML_SVG\"></script><script type=\"text/javascript\">if (window.MathJax) {MathJax.Hub.Config({SVG: {font: \"STIX-Web\"}});}</script>\n",
              "                <script type=\"text/javascript\">window.PlotlyConfig = {MathJaxConfig: 'local'};</script>\n",
              "        <script src=\"https://cdn.plot.ly/plotly-latest.min.js\"></script>    \n",
              "            <div id=\"5a8de59d-7b34-4458-b5fc-85917caa142a\" class=\"plotly-graph-div\" style=\"height:525px; width:100%;\"></div>\n",
              "            <script type=\"text/javascript\">\n",
              "                \n",
              "                    window.PLOTLYENV=window.PLOTLYENV || {};\n",
              "                    \n",
              "                if (document.getElementById(\"5a8de59d-7b34-4458-b5fc-85917caa142a\")) {\n",
              "                    Plotly.newPlot(\n",
              "                        '5a8de59d-7b34-4458-b5fc-85917caa142a',\n",
              "                        [{\"hoverlabel\": {\"namelength\": 0}, \"hovertemplate\": \"Agreement score: %{x:.2f}<br>Cumulative probability: %{y:.2f}\", \"legendgroup\": \"\", \"line\": {\"color\": \"#636efa\", \"dash\": \"solid\"}, \"mode\": \"lines\", \"name\": \"\", \"showlegend\": false, \"type\": \"scatter\", \"x\": [0.0, 0.0624315443592552, 0.06798245614035088, 0.09090909090909093, 0.1111111111111111, 0.14285714285714285, 0.2, 0.2307692307692308, 0.25, 0.2727272727272727, 0.3333333333333333, 0.4, 0.42857142857142855, 0.4545454545454545, 0.4666666666666667, 0.5, 0.5555555555555556, 0.6, 0.6363636363636364, 0.6623093681917211, 0.6666666666666666, 0.6928104575163399, 0.7142857142857143, 0.75, 0.7777777777777778, 0.7782656421514819, 0.8, 0.805464480874317, 0.8181818181818182, 0.8333333333333334, 0.8730853391684902, 0.875, 0.8754098360655738, 0.8864628820960698, 0.9444444444444444, 1.0], \"xaxis\": \"x\", \"y\": [0.0337162603903988, 0.033747392671461034, 0.033778524952523266, 0.03387192179570997, 0.05018523707232028, 0.07845334827682823, 0.09728837831947945, 0.09731951060054168, 0.10058840011207619, 0.10068179695526289, 0.266336664487407, 0.266865913265465, 0.30251237508172224, 0.30260577192490895, 0.30263690420597117, 0.38588462376638333, 0.4108215808972323, 0.43812459138881105, 0.43818685595093554, 0.43821798823199776, 0.44771333395597895, 0.44774446623704117, 0.49858348121166834, 0.5044674823324304, 0.5402384732729366, 0.5402696055539988, 0.540829986613119, 0.5408611188941812, 0.5410479125805546, 0.5411101771426791, 0.5411413094237413, 0.5411724417048035, 0.5412035739858657, 0.5412347062669279, 0.5412658385479902, 0.9999999999999998], \"yaxis\": \"y\"}],\n",
              "                        {\"legend\": {\"tracegroupgap\": 0}, \"margin\": {\"t\": 60}, \"template\": {\"data\": {\"bar\": [{\"error_x\": {\"color\": \"#2a3f5f\"}, \"error_y\": {\"color\": \"#2a3f5f\"}, \"marker\": {\"line\": {\"color\": \"#E5ECF6\", \"width\": 0.5}}, \"type\": \"bar\"}], \"barpolar\": [{\"marker\": {\"line\": {\"color\": \"#E5ECF6\", \"width\": 0.5}}, \"type\": \"barpolar\"}], \"carpet\": [{\"aaxis\": {\"endlinecolor\": \"#2a3f5f\", \"gridcolor\": \"white\", \"linecolor\": \"white\", \"minorgridcolor\": \"white\", \"startlinecolor\": \"#2a3f5f\"}, \"baxis\": {\"endlinecolor\": \"#2a3f5f\", \"gridcolor\": \"white\", \"linecolor\": \"white\", \"minorgridcolor\": \"white\", \"startlinecolor\": \"#2a3f5f\"}, \"type\": \"carpet\"}], \"choropleth\": [{\"colorbar\": {\"outlinewidth\": 0, \"ticks\": \"\"}, \"type\": \"choropleth\"}], \"contour\": [{\"colorbar\": {\"outlinewidth\": 0, \"ticks\": \"\"}, \"colorscale\": [[0.0, \"#0d0887\"], [0.1111111111111111, \"#46039f\"], [0.2222222222222222, \"#7201a8\"], [0.3333333333333333, \"#9c179e\"], [0.4444444444444444, \"#bd3786\"], [0.5555555555555556, \"#d8576b\"], [0.6666666666666666, \"#ed7953\"], [0.7777777777777778, \"#fb9f3a\"], [0.8888888888888888, \"#fdca26\"], [1.0, \"#f0f921\"]], \"type\": \"contour\"}], \"contourcarpet\": [{\"colorbar\": {\"outlinewidth\": 0, \"ticks\": \"\"}, \"type\": \"contourcarpet\"}], \"heatmap\": [{\"colorbar\": {\"outlinewidth\": 0, \"ticks\": \"\"}, \"colorscale\": [[0.0, \"#0d0887\"], [0.1111111111111111, \"#46039f\"], [0.2222222222222222, \"#7201a8\"], [0.3333333333333333, \"#9c179e\"], [0.4444444444444444, \"#bd3786\"], [0.5555555555555556, \"#d8576b\"], [0.6666666666666666, \"#ed7953\"], [0.7777777777777778, \"#fb9f3a\"], [0.8888888888888888, \"#fdca26\"], [1.0, \"#f0f921\"]], \"type\": \"heatmap\"}], \"heatmapgl\": [{\"colorbar\": {\"outlinewidth\": 0, \"ticks\": \"\"}, \"colorscale\": [[0.0, \"#0d0887\"], [0.1111111111111111, \"#46039f\"], [0.2222222222222222, \"#7201a8\"], [0.3333333333333333, \"#9c179e\"], [0.4444444444444444, \"#bd3786\"], [0.5555555555555556, \"#d8576b\"], [0.6666666666666666, \"#ed7953\"], [0.7777777777777778, \"#fb9f3a\"], [0.8888888888888888, \"#fdca26\"], [1.0, \"#f0f921\"]], \"type\": \"heatmapgl\"}], \"histogram\": [{\"marker\": {\"colorbar\": {\"outlinewidth\": 0, \"ticks\": \"\"}}, \"type\": \"histogram\"}], \"histogram2d\": [{\"colorbar\": {\"outlinewidth\": 0, \"ticks\": \"\"}, \"colorscale\": [[0.0, \"#0d0887\"], [0.1111111111111111, \"#46039f\"], [0.2222222222222222, \"#7201a8\"], [0.3333333333333333, \"#9c179e\"], [0.4444444444444444, \"#bd3786\"], [0.5555555555555556, \"#d8576b\"], [0.6666666666666666, \"#ed7953\"], [0.7777777777777778, \"#fb9f3a\"], [0.8888888888888888, \"#fdca26\"], [1.0, \"#f0f921\"]], \"type\": \"histogram2d\"}], \"histogram2dcontour\": [{\"colorbar\": {\"outlinewidth\": 0, \"ticks\": \"\"}, \"colorscale\": [[0.0, \"#0d0887\"], [0.1111111111111111, \"#46039f\"], [0.2222222222222222, \"#7201a8\"], [0.3333333333333333, \"#9c179e\"], [0.4444444444444444, \"#bd3786\"], [0.5555555555555556, \"#d8576b\"], [0.6666666666666666, \"#ed7953\"], [0.7777777777777778, \"#fb9f3a\"], [0.8888888888888888, \"#fdca26\"], [1.0, \"#f0f921\"]], \"type\": \"histogram2dcontour\"}], \"mesh3d\": [{\"colorbar\": {\"outlinewidth\": 0, \"ticks\": \"\"}, \"type\": \"mesh3d\"}], \"parcoords\": [{\"line\": {\"colorbar\": {\"outlinewidth\": 0, \"ticks\": \"\"}}, \"type\": \"parcoords\"}], \"pie\": [{\"automargin\": true, \"type\": \"pie\"}], \"scatter\": [{\"marker\": {\"colorbar\": {\"outlinewidth\": 0, \"ticks\": \"\"}}, \"type\": \"scatter\"}], \"scatter3d\": [{\"line\": {\"colorbar\": {\"outlinewidth\": 0, \"ticks\": \"\"}}, \"marker\": {\"colorbar\": {\"outlinewidth\": 0, \"ticks\": \"\"}}, \"type\": \"scatter3d\"}], \"scattercarpet\": [{\"marker\": {\"colorbar\": {\"outlinewidth\": 0, \"ticks\": \"\"}}, \"type\": \"scattercarpet\"}], \"scattergeo\": [{\"marker\": {\"colorbar\": {\"outlinewidth\": 0, \"ticks\": \"\"}}, \"type\": \"scattergeo\"}], \"scattergl\": [{\"marker\": {\"colorbar\": {\"outlinewidth\": 0, \"ticks\": \"\"}}, \"type\": \"scattergl\"}], \"scattermapbox\": [{\"marker\": {\"colorbar\": {\"outlinewidth\": 0, \"ticks\": \"\"}}, \"type\": \"scattermapbox\"}], \"scatterpolar\": [{\"marker\": {\"colorbar\": {\"outlinewidth\": 0, \"ticks\": \"\"}}, \"type\": \"scatterpolar\"}], \"scatterpolargl\": [{\"marker\": {\"colorbar\": {\"outlinewidth\": 0, \"ticks\": \"\"}}, \"type\": \"scatterpolargl\"}], \"scatterternary\": [{\"marker\": {\"colorbar\": {\"outlinewidth\": 0, \"ticks\": \"\"}}, \"type\": \"scatterternary\"}], \"surface\": [{\"colorbar\": {\"outlinewidth\": 0, \"ticks\": \"\"}, \"colorscale\": [[0.0, \"#0d0887\"], [0.1111111111111111, \"#46039f\"], [0.2222222222222222, \"#7201a8\"], [0.3333333333333333, \"#9c179e\"], [0.4444444444444444, \"#bd3786\"], [0.5555555555555556, \"#d8576b\"], [0.6666666666666666, \"#ed7953\"], [0.7777777777777778, \"#fb9f3a\"], [0.8888888888888888, \"#fdca26\"], [1.0, \"#f0f921\"]], \"type\": \"surface\"}], \"table\": [{\"cells\": {\"fill\": {\"color\": \"#EBF0F8\"}, \"line\": {\"color\": \"white\"}}, \"header\": {\"fill\": {\"color\": \"#C8D4E3\"}, \"line\": {\"color\": \"white\"}}, \"type\": \"table\"}]}, \"layout\": {\"annotationdefaults\": {\"arrowcolor\": \"#2a3f5f\", \"arrowhead\": 0, \"arrowwidth\": 1}, \"coloraxis\": {\"colorbar\": {\"outlinewidth\": 0, \"ticks\": \"\"}}, \"colorscale\": {\"diverging\": [[0, \"#8e0152\"], [0.1, \"#c51b7d\"], [0.2, \"#de77ae\"], [0.3, \"#f1b6da\"], [0.4, \"#fde0ef\"], [0.5, \"#f7f7f7\"], [0.6, \"#e6f5d0\"], [0.7, \"#b8e186\"], [0.8, \"#7fbc41\"], [0.9, \"#4d9221\"], [1, \"#276419\"]], \"sequential\": [[0.0, \"#0d0887\"], [0.1111111111111111, \"#46039f\"], [0.2222222222222222, \"#7201a8\"], [0.3333333333333333, \"#9c179e\"], [0.4444444444444444, \"#bd3786\"], [0.5555555555555556, \"#d8576b\"], [0.6666666666666666, \"#ed7953\"], [0.7777777777777778, \"#fb9f3a\"], [0.8888888888888888, \"#fdca26\"], [1.0, \"#f0f921\"]], \"sequentialminus\": [[0.0, \"#0d0887\"], [0.1111111111111111, \"#46039f\"], [0.2222222222222222, \"#7201a8\"], [0.3333333333333333, \"#9c179e\"], [0.4444444444444444, \"#bd3786\"], [0.5555555555555556, \"#d8576b\"], [0.6666666666666666, \"#ed7953\"], [0.7777777777777778, \"#fb9f3a\"], [0.8888888888888888, \"#fdca26\"], [1.0, \"#f0f921\"]]}, \"colorway\": [\"#636efa\", \"#EF553B\", \"#00cc96\", \"#ab63fa\", \"#FFA15A\", \"#19d3f3\", \"#FF6692\", \"#B6E880\", \"#FF97FF\", \"#FECB52\"], \"font\": {\"color\": \"#2a3f5f\"}, \"geo\": {\"bgcolor\": \"white\", \"lakecolor\": \"white\", \"landcolor\": \"#E5ECF6\", \"showlakes\": true, \"showland\": true, \"subunitcolor\": \"white\"}, \"hoverlabel\": {\"align\": \"left\"}, \"hovermode\": \"closest\", \"mapbox\": {\"style\": \"light\"}, \"paper_bgcolor\": \"white\", \"plot_bgcolor\": \"#E5ECF6\", \"polar\": {\"angularaxis\": {\"gridcolor\": \"white\", \"linecolor\": \"white\", \"ticks\": \"\"}, \"bgcolor\": \"#E5ECF6\", \"radialaxis\": {\"gridcolor\": \"white\", \"linecolor\": \"white\", \"ticks\": \"\"}}, \"scene\": {\"xaxis\": {\"backgroundcolor\": \"#E5ECF6\", \"gridcolor\": \"white\", \"gridwidth\": 2, \"linecolor\": \"white\", \"showbackground\": true, \"ticks\": \"\", \"zerolinecolor\": \"white\"}, \"yaxis\": {\"backgroundcolor\": \"#E5ECF6\", \"gridcolor\": \"white\", \"gridwidth\": 2, \"linecolor\": \"white\", \"showbackground\": true, \"ticks\": \"\", \"zerolinecolor\": \"white\"}, \"zaxis\": {\"backgroundcolor\": \"#E5ECF6\", \"gridcolor\": \"white\", \"gridwidth\": 2, \"linecolor\": \"white\", \"showbackground\": true, \"ticks\": \"\", \"zerolinecolor\": \"white\"}}, \"shapedefaults\": {\"line\": {\"color\": \"#2a3f5f\"}}, \"ternary\": {\"aaxis\": {\"gridcolor\": \"white\", \"linecolor\": \"white\", \"ticks\": \"\"}, \"baxis\": {\"gridcolor\": \"white\", \"linecolor\": \"white\", \"ticks\": \"\"}, \"bgcolor\": \"#E5ECF6\", \"caxis\": {\"gridcolor\": \"white\", \"linecolor\": \"white\", \"ticks\": \"\"}}, \"title\": {\"x\": 0.05}, \"xaxis\": {\"automargin\": true, \"gridcolor\": \"white\", \"linecolor\": \"white\", \"ticks\": \"\", \"title\": {\"standoff\": 15}, \"zerolinecolor\": \"white\", \"zerolinewidth\": 2}, \"yaxis\": {\"automargin\": true, \"gridcolor\": \"white\", \"linecolor\": \"white\", \"ticks\": \"\", \"title\": {\"standoff\": 15}, \"zerolinecolor\": \"white\", \"zerolinewidth\": 2}}}, \"xaxis\": {\"anchor\": \"y\", \"domain\": [0.0, 1.0], \"dtick\": 0.1, \"title\": {\"text\": \"Agreement Score\"}}, \"yaxis\": {\"anchor\": \"x\", \"domain\": [0.0, 1.0], \"dtick\": 0.25, \"title\": {\"text\": \"Cumulative Probrability\"}}},\n",
              "                        {\"responsive\": true}\n",
              "                    ).then(function(){\n",
              "                            \n",
              "var gd = document.getElementById('5a8de59d-7b34-4458-b5fc-85917caa142a');\n",
              "var x = new MutationObserver(function (mutations, observer) {{\n",
              "        var display = window.getComputedStyle(gd).display;\n",
              "        if (!display || display === 'none') {{\n",
              "            console.log([gd, 'removed!']);\n",
              "            Plotly.purge(gd);\n",
              "            observer.disconnect();\n",
              "        }}\n",
              "}});\n",
              "\n",
              "// Listen for the removal of the full notebook cells\n",
              "var notebookContainer = gd.closest('#notebook-container');\n",
              "if (notebookContainer) {{\n",
              "    x.observe(notebookContainer, {childList: true});\n",
              "}}\n",
              "\n",
              "// Listen for the clearing of the current output cell\n",
              "var outputEl = gd.closest('.output');\n",
              "if (outputEl) {{\n",
              "    x.observe(outputEl, {childList: true});\n",
              "}}\n",
              "\n",
              "                        })\n",
              "                };\n",
              "                \n",
              "            </script>\n",
              "        </div>\n",
              "</body>\n",
              "</html>"
            ]
          },
          "metadata": {}
        }
      ]
    },
    {
      "cell_type": "code",
      "metadata": {
        "id": "I8914XuhRCaF",
        "colab": {
          "base_uri": "https://localhost:8080/",
          "height": 130
        },
        "outputId": "fa7d2d70-49ef-40b4-90f6-b9d8645c851f"
      },
      "source": [
        "#now filtering out those queries that are greater than 0.6\n",
        "osmodel = osmodel.query('agreement >= 0.6 and  labels_positive>labels_negative')\n",
        "print(\"now the sha[pe is going to be\",osmodel.shape)\n",
        "osmodel.head(2)"
      ],
      "execution_count": 17,
      "outputs": [
        {
          "output_type": "stream",
          "name": "stdout",
          "text": [
            "now the sha[pe is going to be (17233, 7)\n"
          ]
        },
        {
          "output_type": "execute_result",
          "data": {
            "text/html": [
              "<div>\n",
              "<style scoped>\n",
              "    .dataframe tbody tr th:only-of-type {\n",
              "        vertical-align: middle;\n",
              "    }\n",
              "\n",
              "    .dataframe tbody tr th {\n",
              "        vertical-align: top;\n",
              "    }\n",
              "\n",
              "    .dataframe thead th {\n",
              "        text-align: right;\n",
              "    }\n",
              "</style>\n",
              "<table border=\"1\" class=\"dataframe\">\n",
              "  <thead>\n",
              "    <tr style=\"text-align: right;\">\n",
              "      <th></th>\n",
              "      <th>doi</th>\n",
              "      <th>text_id</th>\n",
              "      <th>text</th>\n",
              "      <th>sdg</th>\n",
              "      <th>labels_negative</th>\n",
              "      <th>labels_positive</th>\n",
              "      <th>agreement</th>\n",
              "    </tr>\n",
              "  </thead>\n",
              "  <tbody>\n",
              "    <tr>\n",
              "      <th>0</th>\n",
              "      <td>10.6027/9789289342698-7-en</td>\n",
              "      <td>00021941702cd84171ff33962197ca1f</td>\n",
              "      <td>From a gender perspective, Paulgaard points ou...</td>\n",
              "      <td>5</td>\n",
              "      <td>1</td>\n",
              "      <td>7</td>\n",
              "      <td>0.750000</td>\n",
              "    </tr>\n",
              "    <tr>\n",
              "      <th>2</th>\n",
              "      <td>10.1787/9789264289062-4-en</td>\n",
              "      <td>0004eb64f96e1620cd852603d9cbe4d4</td>\n",
              "      <td>The average figure also masks large difference...</td>\n",
              "      <td>3</td>\n",
              "      <td>1</td>\n",
              "      <td>6</td>\n",
              "      <td>0.714286</td>\n",
              "    </tr>\n",
              "  </tbody>\n",
              "</table>\n",
              "</div>"
            ],
            "text/plain": [
              "                          doi  ... agreement\n",
              "0  10.6027/9789289342698-7-en  ...  0.750000\n",
              "2  10.1787/9789264289062-4-en  ...  0.714286\n",
              "\n",
              "[2 rows x 7 columns]"
            ]
          },
          "metadata": {},
          "execution_count": 17
        }
      ]
    },
    {
      "cell_type": "code",
      "metadata": {
        "id": "QS7cVeRIRplL",
        "colab": {
          "base_uri": "https://localhost:8080/",
          "height": 112
        },
        "outputId": "e7002405-1f72-40e6-d008-1c68204ccbe2"
      },
      "source": [
        "#grouping by based on the textid and count recieved \n",
        "osdgcum = osmodel.groupby('sdg',as_index=False).agg(count = ('text_id','count'))\n",
        "osdgcum['share'] = osdgcum['count'].divide(osdgcum['count'].sum()).multiply(100)\n",
        "osdgcum.shape\n",
        "osdgcum.head(2)"
      ],
      "execution_count": 20,
      "outputs": [
        {
          "output_type": "execute_result",
          "data": {
            "text/html": [
              "<div>\n",
              "<style scoped>\n",
              "    .dataframe tbody tr th:only-of-type {\n",
              "        vertical-align: middle;\n",
              "    }\n",
              "\n",
              "    .dataframe tbody tr th {\n",
              "        vertical-align: top;\n",
              "    }\n",
              "\n",
              "    .dataframe thead th {\n",
              "        text-align: right;\n",
              "    }\n",
              "</style>\n",
              "<table border=\"1\" class=\"dataframe\">\n",
              "  <thead>\n",
              "    <tr style=\"text-align: right;\">\n",
              "      <th></th>\n",
              "      <th>sdg</th>\n",
              "      <th>count</th>\n",
              "      <th>share</th>\n",
              "    </tr>\n",
              "  </thead>\n",
              "  <tbody>\n",
              "    <tr>\n",
              "      <th>0</th>\n",
              "      <td>1</td>\n",
              "      <td>1146</td>\n",
              "      <td>6.650032</td>\n",
              "    </tr>\n",
              "    <tr>\n",
              "      <th>1</th>\n",
              "      <td>2</td>\n",
              "      <td>827</td>\n",
              "      <td>4.798932</td>\n",
              "    </tr>\n",
              "  </tbody>\n",
              "</table>\n",
              "</div>"
            ],
            "text/plain": [
              "   sdg  count     share\n",
              "0    1   1146  6.650032\n",
              "1    2    827  4.798932"
            ]
          },
          "metadata": {},
          "execution_count": 20
        }
      ]
    },
    {
      "cell_type": "code",
      "metadata": {
        "id": "mT7Q6hsrX-7i",
        "colab": {
          "base_uri": "https://localhost:8080/",
          "height": 542
        },
        "outputId": "ee614def-e762-40ab-c2b6-1dd37588e6ee"
      },
      "source": [
        "#taking the graph about how many count of sdg we are having in th dataset\n",
        "fig = px.bar(\n",
        "    data_frame = osdgcum,\n",
        "    x = 'sdg',\n",
        "    y = 'count',\n",
        "    custom_data = ['share'],\n",
        "    labels = {\n",
        "        'sdg': 'SDG',\n",
        "        'count': 'Count'\n",
        "    },\n",
        "    color_discrete_sequence = ['#1f77b4'],\n",
        "    title = 'Figure 2. Distribution of Texts (Agreement >.6) over SDGs'\n",
        ")\n",
        "\n",
        "fig.update_traces(hovertemplate = 'SDG %{x}<br>Count: %{y}<br>Share: %{customdata:.2f}%')\n",
        "fig.update_layout(xaxis = {'type': 'category'})\n",
        "fig.show()\n",
        "\n"
      ],
      "execution_count": 21,
      "outputs": [
        {
          "output_type": "display_data",
          "data": {
            "text/html": [
              "<html>\n",
              "<head><meta charset=\"utf-8\" /></head>\n",
              "<body>\n",
              "    <div>\n",
              "            <script src=\"https://cdnjs.cloudflare.com/ajax/libs/mathjax/2.7.5/MathJax.js?config=TeX-AMS-MML_SVG\"></script><script type=\"text/javascript\">if (window.MathJax) {MathJax.Hub.Config({SVG: {font: \"STIX-Web\"}});}</script>\n",
              "                <script type=\"text/javascript\">window.PlotlyConfig = {MathJaxConfig: 'local'};</script>\n",
              "        <script src=\"https://cdn.plot.ly/plotly-latest.min.js\"></script>    \n",
              "            <div id=\"ab3c04ac-d060-49b9-802b-89b17729117c\" class=\"plotly-graph-div\" style=\"height:525px; width:100%;\"></div>\n",
              "            <script type=\"text/javascript\">\n",
              "                \n",
              "                    window.PLOTLYENV=window.PLOTLYENV || {};\n",
              "                    \n",
              "                if (document.getElementById(\"ab3c04ac-d060-49b9-802b-89b17729117c\")) {\n",
              "                    Plotly.newPlot(\n",
              "                        'ab3c04ac-d060-49b9-802b-89b17729117c',\n",
              "                        [{\"alignmentgroup\": \"True\", \"customdata\": [[6.650031915510938], [4.798932281088609], [10.7584285962978], [13.485754076481172], [13.26524690999826], [7.793187489119713], [9.220681251088028], [4.984622526547902], [3.992340277374804], [2.535832414553473], [7.31155341495967], [1.4158881216271109], [6.551383972610688], [4.090988220275054], [3.145128532466779]], \"hoverlabel\": {\"namelength\": 0}, \"hovertemplate\": \"SDG %{x}<br>Count: %{y}<br>Share: %{customdata:.2f}%\", \"legendgroup\": \"\", \"marker\": {\"color\": \"#1f77b4\"}, \"name\": \"\", \"offsetgroup\": \"\", \"orientation\": \"v\", \"showlegend\": false, \"textposition\": \"auto\", \"type\": \"bar\", \"x\": [1, 2, 3, 4, 5, 6, 7, 8, 9, 10, 11, 12, 13, 14, 15], \"xaxis\": \"x\", \"y\": [1146, 827, 1854, 2324, 2286, 1343, 1589, 859, 688, 437, 1260, 244, 1129, 705, 542], \"yaxis\": \"y\"}],\n",
              "                        {\"barmode\": \"relative\", \"legend\": {\"tracegroupgap\": 0}, \"template\": {\"data\": {\"bar\": [{\"error_x\": {\"color\": \"#2a3f5f\"}, \"error_y\": {\"color\": \"#2a3f5f\"}, \"marker\": {\"line\": {\"color\": \"#E5ECF6\", \"width\": 0.5}}, \"type\": \"bar\"}], \"barpolar\": [{\"marker\": {\"line\": {\"color\": \"#E5ECF6\", \"width\": 0.5}}, \"type\": \"barpolar\"}], \"carpet\": [{\"aaxis\": {\"endlinecolor\": \"#2a3f5f\", \"gridcolor\": \"white\", \"linecolor\": \"white\", \"minorgridcolor\": \"white\", \"startlinecolor\": \"#2a3f5f\"}, \"baxis\": {\"endlinecolor\": \"#2a3f5f\", \"gridcolor\": \"white\", \"linecolor\": \"white\", \"minorgridcolor\": \"white\", \"startlinecolor\": \"#2a3f5f\"}, \"type\": \"carpet\"}], \"choropleth\": [{\"colorbar\": {\"outlinewidth\": 0, \"ticks\": \"\"}, \"type\": \"choropleth\"}], \"contour\": [{\"colorbar\": {\"outlinewidth\": 0, \"ticks\": \"\"}, \"colorscale\": [[0.0, \"#0d0887\"], [0.1111111111111111, \"#46039f\"], [0.2222222222222222, \"#7201a8\"], [0.3333333333333333, \"#9c179e\"], [0.4444444444444444, \"#bd3786\"], [0.5555555555555556, \"#d8576b\"], [0.6666666666666666, \"#ed7953\"], [0.7777777777777778, \"#fb9f3a\"], [0.8888888888888888, \"#fdca26\"], [1.0, \"#f0f921\"]], \"type\": \"contour\"}], \"contourcarpet\": [{\"colorbar\": {\"outlinewidth\": 0, \"ticks\": \"\"}, \"type\": \"contourcarpet\"}], \"heatmap\": [{\"colorbar\": {\"outlinewidth\": 0, \"ticks\": \"\"}, \"colorscale\": [[0.0, \"#0d0887\"], [0.1111111111111111, \"#46039f\"], [0.2222222222222222, \"#7201a8\"], [0.3333333333333333, \"#9c179e\"], [0.4444444444444444, \"#bd3786\"], [0.5555555555555556, \"#d8576b\"], [0.6666666666666666, \"#ed7953\"], [0.7777777777777778, \"#fb9f3a\"], [0.8888888888888888, \"#fdca26\"], [1.0, \"#f0f921\"]], \"type\": \"heatmap\"}], \"heatmapgl\": [{\"colorbar\": {\"outlinewidth\": 0, \"ticks\": \"\"}, \"colorscale\": [[0.0, \"#0d0887\"], [0.1111111111111111, \"#46039f\"], [0.2222222222222222, \"#7201a8\"], [0.3333333333333333, \"#9c179e\"], [0.4444444444444444, \"#bd3786\"], [0.5555555555555556, \"#d8576b\"], [0.6666666666666666, \"#ed7953\"], [0.7777777777777778, \"#fb9f3a\"], [0.8888888888888888, \"#fdca26\"], [1.0, \"#f0f921\"]], \"type\": \"heatmapgl\"}], \"histogram\": [{\"marker\": {\"colorbar\": {\"outlinewidth\": 0, \"ticks\": \"\"}}, \"type\": \"histogram\"}], \"histogram2d\": [{\"colorbar\": {\"outlinewidth\": 0, \"ticks\": \"\"}, \"colorscale\": [[0.0, \"#0d0887\"], [0.1111111111111111, \"#46039f\"], [0.2222222222222222, \"#7201a8\"], [0.3333333333333333, \"#9c179e\"], [0.4444444444444444, \"#bd3786\"], [0.5555555555555556, \"#d8576b\"], [0.6666666666666666, \"#ed7953\"], [0.7777777777777778, \"#fb9f3a\"], [0.8888888888888888, \"#fdca26\"], [1.0, \"#f0f921\"]], \"type\": \"histogram2d\"}], \"histogram2dcontour\": [{\"colorbar\": {\"outlinewidth\": 0, \"ticks\": \"\"}, \"colorscale\": [[0.0, \"#0d0887\"], [0.1111111111111111, \"#46039f\"], [0.2222222222222222, \"#7201a8\"], [0.3333333333333333, \"#9c179e\"], [0.4444444444444444, \"#bd3786\"], [0.5555555555555556, \"#d8576b\"], [0.6666666666666666, \"#ed7953\"], [0.7777777777777778, \"#fb9f3a\"], [0.8888888888888888, \"#fdca26\"], [1.0, \"#f0f921\"]], \"type\": \"histogram2dcontour\"}], \"mesh3d\": [{\"colorbar\": {\"outlinewidth\": 0, \"ticks\": \"\"}, \"type\": \"mesh3d\"}], \"parcoords\": [{\"line\": {\"colorbar\": {\"outlinewidth\": 0, \"ticks\": \"\"}}, \"type\": \"parcoords\"}], \"pie\": [{\"automargin\": true, \"type\": \"pie\"}], \"scatter\": [{\"marker\": {\"colorbar\": {\"outlinewidth\": 0, \"ticks\": \"\"}}, \"type\": \"scatter\"}], \"scatter3d\": [{\"line\": {\"colorbar\": {\"outlinewidth\": 0, \"ticks\": \"\"}}, \"marker\": {\"colorbar\": {\"outlinewidth\": 0, \"ticks\": \"\"}}, \"type\": \"scatter3d\"}], \"scattercarpet\": [{\"marker\": {\"colorbar\": {\"outlinewidth\": 0, \"ticks\": \"\"}}, \"type\": \"scattercarpet\"}], \"scattergeo\": [{\"marker\": {\"colorbar\": {\"outlinewidth\": 0, \"ticks\": \"\"}}, \"type\": \"scattergeo\"}], \"scattergl\": [{\"marker\": {\"colorbar\": {\"outlinewidth\": 0, \"ticks\": \"\"}}, \"type\": \"scattergl\"}], \"scattermapbox\": [{\"marker\": {\"colorbar\": {\"outlinewidth\": 0, \"ticks\": \"\"}}, \"type\": \"scattermapbox\"}], \"scatterpolar\": [{\"marker\": {\"colorbar\": {\"outlinewidth\": 0, \"ticks\": \"\"}}, \"type\": \"scatterpolar\"}], \"scatterpolargl\": [{\"marker\": {\"colorbar\": {\"outlinewidth\": 0, \"ticks\": \"\"}}, \"type\": \"scatterpolargl\"}], \"scatterternary\": [{\"marker\": {\"colorbar\": {\"outlinewidth\": 0, \"ticks\": \"\"}}, \"type\": \"scatterternary\"}], \"surface\": [{\"colorbar\": {\"outlinewidth\": 0, \"ticks\": \"\"}, \"colorscale\": [[0.0, \"#0d0887\"], [0.1111111111111111, \"#46039f\"], [0.2222222222222222, \"#7201a8\"], [0.3333333333333333, \"#9c179e\"], [0.4444444444444444, \"#bd3786\"], [0.5555555555555556, \"#d8576b\"], [0.6666666666666666, \"#ed7953\"], [0.7777777777777778, \"#fb9f3a\"], [0.8888888888888888, \"#fdca26\"], [1.0, \"#f0f921\"]], \"type\": \"surface\"}], \"table\": [{\"cells\": {\"fill\": {\"color\": \"#EBF0F8\"}, \"line\": {\"color\": \"white\"}}, \"header\": {\"fill\": {\"color\": \"#C8D4E3\"}, \"line\": {\"color\": \"white\"}}, \"type\": \"table\"}]}, \"layout\": {\"annotationdefaults\": {\"arrowcolor\": \"#2a3f5f\", \"arrowhead\": 0, \"arrowwidth\": 1}, \"coloraxis\": {\"colorbar\": {\"outlinewidth\": 0, \"ticks\": \"\"}}, \"colorscale\": {\"diverging\": [[0, \"#8e0152\"], [0.1, \"#c51b7d\"], [0.2, \"#de77ae\"], [0.3, \"#f1b6da\"], [0.4, \"#fde0ef\"], [0.5, \"#f7f7f7\"], [0.6, \"#e6f5d0\"], [0.7, \"#b8e186\"], [0.8, \"#7fbc41\"], [0.9, \"#4d9221\"], [1, \"#276419\"]], \"sequential\": [[0.0, \"#0d0887\"], [0.1111111111111111, \"#46039f\"], [0.2222222222222222, \"#7201a8\"], [0.3333333333333333, \"#9c179e\"], [0.4444444444444444, \"#bd3786\"], [0.5555555555555556, \"#d8576b\"], [0.6666666666666666, \"#ed7953\"], [0.7777777777777778, \"#fb9f3a\"], [0.8888888888888888, \"#fdca26\"], [1.0, \"#f0f921\"]], \"sequentialminus\": [[0.0, \"#0d0887\"], [0.1111111111111111, \"#46039f\"], [0.2222222222222222, \"#7201a8\"], [0.3333333333333333, \"#9c179e\"], [0.4444444444444444, \"#bd3786\"], [0.5555555555555556, \"#d8576b\"], [0.6666666666666666, \"#ed7953\"], [0.7777777777777778, \"#fb9f3a\"], [0.8888888888888888, \"#fdca26\"], [1.0, \"#f0f921\"]]}, \"colorway\": [\"#636efa\", \"#EF553B\", \"#00cc96\", \"#ab63fa\", \"#FFA15A\", \"#19d3f3\", \"#FF6692\", \"#B6E880\", \"#FF97FF\", \"#FECB52\"], \"font\": {\"color\": \"#2a3f5f\"}, \"geo\": {\"bgcolor\": \"white\", \"lakecolor\": \"white\", \"landcolor\": \"#E5ECF6\", \"showlakes\": true, \"showland\": true, \"subunitcolor\": \"white\"}, \"hoverlabel\": {\"align\": \"left\"}, \"hovermode\": \"closest\", \"mapbox\": {\"style\": \"light\"}, \"paper_bgcolor\": \"white\", \"plot_bgcolor\": \"#E5ECF6\", \"polar\": {\"angularaxis\": {\"gridcolor\": \"white\", \"linecolor\": \"white\", \"ticks\": \"\"}, \"bgcolor\": \"#E5ECF6\", \"radialaxis\": {\"gridcolor\": \"white\", \"linecolor\": \"white\", \"ticks\": \"\"}}, \"scene\": {\"xaxis\": {\"backgroundcolor\": \"#E5ECF6\", \"gridcolor\": \"white\", \"gridwidth\": 2, \"linecolor\": \"white\", \"showbackground\": true, \"ticks\": \"\", \"zerolinecolor\": \"white\"}, \"yaxis\": {\"backgroundcolor\": \"#E5ECF6\", \"gridcolor\": \"white\", \"gridwidth\": 2, \"linecolor\": \"white\", \"showbackground\": true, \"ticks\": \"\", \"zerolinecolor\": \"white\"}, \"zaxis\": {\"backgroundcolor\": \"#E5ECF6\", \"gridcolor\": \"white\", \"gridwidth\": 2, \"linecolor\": \"white\", \"showbackground\": true, \"ticks\": \"\", \"zerolinecolor\": \"white\"}}, \"shapedefaults\": {\"line\": {\"color\": \"#2a3f5f\"}}, \"ternary\": {\"aaxis\": {\"gridcolor\": \"white\", \"linecolor\": \"white\", \"ticks\": \"\"}, \"baxis\": {\"gridcolor\": \"white\", \"linecolor\": \"white\", \"ticks\": \"\"}, \"bgcolor\": \"#E5ECF6\", \"caxis\": {\"gridcolor\": \"white\", \"linecolor\": \"white\", \"ticks\": \"\"}}, \"title\": {\"x\": 0.05}, \"xaxis\": {\"automargin\": true, \"gridcolor\": \"white\", \"linecolor\": \"white\", \"ticks\": \"\", \"title\": {\"standoff\": 15}, \"zerolinecolor\": \"white\", \"zerolinewidth\": 2}, \"yaxis\": {\"automargin\": true, \"gridcolor\": \"white\", \"linecolor\": \"white\", \"ticks\": \"\", \"title\": {\"standoff\": 15}, \"zerolinecolor\": \"white\", \"zerolinewidth\": 2}}}, \"title\": {\"text\": \"Figure 2. Distribution of Texts (Agreement >.6) over SDGs\"}, \"xaxis\": {\"anchor\": \"y\", \"domain\": [0.0, 1.0], \"title\": {\"text\": \"SDG\"}, \"type\": \"category\"}, \"yaxis\": {\"anchor\": \"x\", \"domain\": [0.0, 1.0], \"title\": {\"text\": \"Count\"}}},\n",
              "                        {\"responsive\": true}\n",
              "                    ).then(function(){\n",
              "                            \n",
              "var gd = document.getElementById('ab3c04ac-d060-49b9-802b-89b17729117c');\n",
              "var x = new MutationObserver(function (mutations, observer) {{\n",
              "        var display = window.getComputedStyle(gd).display;\n",
              "        if (!display || display === 'none') {{\n",
              "            console.log([gd, 'removed!']);\n",
              "            Plotly.purge(gd);\n",
              "            observer.disconnect();\n",
              "        }}\n",
              "}});\n",
              "\n",
              "// Listen for the removal of the full notebook cells\n",
              "var notebookContainer = gd.closest('#notebook-container');\n",
              "if (notebookContainer) {{\n",
              "    x.observe(notebookContainer, {childList: true});\n",
              "}}\n",
              "\n",
              "// Listen for the clearing of the current output cell\n",
              "var outputEl = gd.closest('.output');\n",
              "if (outputEl) {{\n",
              "    x.observe(outputEl, {childList: true});\n",
              "}}\n",
              "\n",
              "                        })\n",
              "                };\n",
              "                \n",
              "            </script>\n",
              "        </div>\n",
              "</body>\n",
              "</html>"
            ]
          },
          "metadata": {}
        }
      ]
    },
    {
      "cell_type": "code",
      "metadata": {
        "id": "ZHlARKSAjVyq",
        "colab": {
          "base_uri": "https://localhost:8080/"
        },
        "outputId": "7b19e18a-9f98-4be6-de5a-df76955c45fd"
      },
      "source": [
        "#now importing spacy library and taking visualization library \n",
        "import plotly.io as pio \n",
        "pio.templates.default = 'plotly_white'\n",
        "\n",
        "spacy.prefer_gpu()\n",
        "nlp = spacy.load('en_core_web_sm', disable = ['ner'])\n",
        "\n",
        "print('SpaCy version:', spacy.__version__)"
      ],
      "execution_count": 22,
      "outputs": [
        {
          "output_type": "stream",
          "name": "stdout",
          "text": [
            "SpaCy version: 2.2.4\n"
          ]
        }
      ]
    },
    {
      "cell_type": "code",
      "metadata": {
        "id": "vNCdNPhsbCET"
      },
      "source": [
        "#writing this fucntion will perform text preprocessing and text lemmatization pos tagging\n",
        "def preprocess_spacy(alpha: List[str]) -> List[str]:\n",
        "    \"\"\"\n",
        "    Preprocess text input using spaCy.\n",
        "    \n",
        "    Parameters\n",
        "    ----------\n",
        "    alpha: List[str]\n",
        "        a text corpus.\n",
        "    \n",
        "    Returns\n",
        "    -------\n",
        "    doc: List[str]\n",
        "        a cleaned version of the original text corpus.\n",
        "    \"\"\"\n",
        "    docs = list()\n",
        "    \n",
        "    for doc in tqdm(nlp.pipe(alpha, batch_size = 128)):\n",
        "        tokens = list()\n",
        "        for token in doc:\n",
        "            if token.pos_ in ['NOUN', 'VERB', 'ADJ']:\n",
        "                tokens.append(token.lemma_)\n",
        "        docs.append(' '.join(tokens))\n",
        "        \n",
        "    return docs"
      ],
      "execution_count": 23,
      "outputs": []
    },
    {
      "cell_type": "code",
      "metadata": {
        "id": "T_hAB0rKiefA",
        "colab": {
          "base_uri": "https://localhost:8080/",
          "height": 311
        },
        "outputId": "d098df72-4bcc-4063-d492-b8e7cd3e7911"
      },
      "source": [
        "#taking the text value of the dataset to the docs\n",
        "osmodel['docs'] = preprocess_spacy(osmodel['text'].values)\n",
        "osmodel.shape\n",
        "display(osmodel.head())\n",
        "\n"
      ],
      "execution_count": 24,
      "outputs": [
        {
          "output_type": "stream",
          "name": "stderr",
          "text": [
            "17233it [02:17, 125.30it/s]\n"
          ]
        },
        {
          "output_type": "display_data",
          "data": {
            "text/html": [
              "<div>\n",
              "<style scoped>\n",
              "    .dataframe tbody tr th:only-of-type {\n",
              "        vertical-align: middle;\n",
              "    }\n",
              "\n",
              "    .dataframe tbody tr th {\n",
              "        vertical-align: top;\n",
              "    }\n",
              "\n",
              "    .dataframe thead th {\n",
              "        text-align: right;\n",
              "    }\n",
              "</style>\n",
              "<table border=\"1\" class=\"dataframe\">\n",
              "  <thead>\n",
              "    <tr style=\"text-align: right;\">\n",
              "      <th></th>\n",
              "      <th>doi</th>\n",
              "      <th>text_id</th>\n",
              "      <th>text</th>\n",
              "      <th>sdg</th>\n",
              "      <th>labels_negative</th>\n",
              "      <th>labels_positive</th>\n",
              "      <th>agreement</th>\n",
              "      <th>docs</th>\n",
              "    </tr>\n",
              "  </thead>\n",
              "  <tbody>\n",
              "    <tr>\n",
              "      <th>0</th>\n",
              "      <td>10.6027/9789289342698-7-en</td>\n",
              "      <td>00021941702cd84171ff33962197ca1f</td>\n",
              "      <td>From a gender perspective, Paulgaard points ou...</td>\n",
              "      <td>5</td>\n",
              "      <td>1</td>\n",
              "      <td>7</td>\n",
              "      <td>0.750000</td>\n",
              "      <td>gender perspective point labour market fishing...</td>\n",
              "    </tr>\n",
              "    <tr>\n",
              "      <th>2</th>\n",
              "      <td>10.1787/9789264289062-4-en</td>\n",
              "      <td>0004eb64f96e1620cd852603d9cbe4d4</td>\n",
              "      <td>The average figure also masks large difference...</td>\n",
              "      <td>3</td>\n",
              "      <td>1</td>\n",
              "      <td>6</td>\n",
              "      <td>0.714286</td>\n",
              "      <td>average figure mask large difference region nu...</td>\n",
              "    </tr>\n",
              "    <tr>\n",
              "      <th>7</th>\n",
              "      <td>10.1787/9789264117563-8-en</td>\n",
              "      <td>000bfb17e9f3a00d4515ab59c5c487e7</td>\n",
              "      <td>The Israel Oceanographic and Limnological Rese...</td>\n",
              "      <td>6</td>\n",
              "      <td>0</td>\n",
              "      <td>3</td>\n",
              "      <td>1.000000</td>\n",
              "      <td>station monitor quantity quality water coastli...</td>\n",
              "    </tr>\n",
              "    <tr>\n",
              "      <th>8</th>\n",
              "      <td>10.18356/805b1ae4-en</td>\n",
              "      <td>001180f5dd9a821e651ed51e30d0cf8c</td>\n",
              "      <td>Previous chapters have discussed ways to make ...</td>\n",
              "      <td>2</td>\n",
              "      <td>0</td>\n",
              "      <td>3</td>\n",
              "      <td>1.000000</td>\n",
              "      <td>previous chapter discuss way make food system ...</td>\n",
              "    </tr>\n",
              "    <tr>\n",
              "      <th>11</th>\n",
              "      <td>10.1787/9789264310278-en</td>\n",
              "      <td>001f1aee4013cb098da17a979c38bc57</td>\n",
              "      <td>Prescription rates appear to be higher where l...</td>\n",
              "      <td>8</td>\n",
              "      <td>0</td>\n",
              "      <td>3</td>\n",
              "      <td>1.000000</td>\n",
              "      <td>prescription rate appear high labour force par...</td>\n",
              "    </tr>\n",
              "  </tbody>\n",
              "</table>\n",
              "</div>"
            ],
            "text/plain": [
              "                           doi  ...                                               docs\n",
              "0   10.6027/9789289342698-7-en  ...  gender perspective point labour market fishing...\n",
              "2   10.1787/9789264289062-4-en  ...  average figure mask large difference region nu...\n",
              "7   10.1787/9789264117563-8-en  ...  station monitor quantity quality water coastli...\n",
              "8         10.18356/805b1ae4-en  ...  previous chapter discuss way make food system ...\n",
              "11    10.1787/9789264310278-en  ...  prescription rate appear high labour force par...\n",
              "\n",
              "[5 rows x 8 columns]"
            ]
          },
          "metadata": {}
        }
      ]
    },
    {
      "cell_type": "code",
      "metadata": {
        "id": "g7j9bFqaiz5w"
      },
      "source": [
        "#splitting the docs and sdg which is text and sdg because they are only having preferred labels and accuracy and so we are taking text and sdg as train datset and test dataset\n",
        "x_train, x_test, y_train, y_test = train_test_split(\n",
        "    osmodel['docs'].values, \n",
        "    osmodel['sdg'].values, \n",
        "    test_size = .3,\n",
        "    random_state = 42\n",
        ")"
      ],
      "execution_count": 25,
      "outputs": []
    },
    {
      "cell_type": "code",
      "metadata": {
        "id": "5SRJ9RV8k25t",
        "colab": {
          "base_uri": "https://localhost:8080/"
        },
        "outputId": "8784e038-bdd9-4e3a-fb69-b603fb39cfea"
      },
      "source": [
        "#we can see the shape given below\n",
        "x_train.shape\n",
        "x_test.shape"
      ],
      "execution_count": 26,
      "outputs": [
        {
          "output_type": "execute_result",
          "data": {
            "text/plain": [
              "(5170,)"
            ]
          },
          "metadata": {},
          "execution_count": 26
        }
      ]
    },
    {
      "cell_type": "code",
      "metadata": {
        "id": "GZOlQVaZlLUm",
        "colab": {
          "base_uri": "https://localhost:8080/"
        },
        "outputId": "610a3687-1569-44b0-ca90-39f9f9da6980"
      },
      "source": [
        "#taking the pipeline fuinction and implementing logistic regression pipeline\n",
        "pipe = Pipeline([\n",
        "    ('vectoriser', TfidfVectorizer(\n",
        "        ngram_range = (1, 2),\n",
        "        max_df = 0.75,\n",
        "        min_df = 2,\n",
        "        max_features = 100_000\n",
        "    )),\n",
        "    ('selector', SelectKBest(f_classif, k = 5_000)),\n",
        "    ('clf', LogisticRegression(\n",
        "        penalty = 'l2',\n",
        "        C = .9,\n",
        "        multi_class = 'multinomial',\n",
        "        class_weight = 'balanced',\n",
        "        random_state = 42,\n",
        "        solver = 'newton-cg',\n",
        "        max_iter = 100\n",
        "    ))\n",
        "])\n",
        "\n",
        "pipe.fit(x_train, y_train)\n"
      ],
      "execution_count": 40,
      "outputs": [
        {
          "output_type": "execute_result",
          "data": {
            "text/plain": [
              "Pipeline(steps=[('vectoriser',\n",
              "                 TfidfVectorizer(max_df=0.75, max_features=100000, min_df=2,\n",
              "                                 ngram_range=(1, 2))),\n",
              "                ('selector', SelectKBest(k=5000)),\n",
              "                ('clf',\n",
              "                 LogisticRegression(C=0.9, class_weight='balanced',\n",
              "                                    multi_class='multinomial', random_state=42,\n",
              "                                    solver='newton-cg'))])"
            ]
          },
          "metadata": {},
          "execution_count": 40
        }
      ]
    },
    {
      "cell_type": "code",
      "metadata": {
        "id": "KgWlaCF6lpsm",
        "colab": {
          "base_uri": "https://localhost:8080/"
        },
        "outputId": "d2238a00-a266-4f4f-d222-bc590d6047d8"
      },
      "source": [
        "#by confusion matrix we can see that it is having accuracy\n",
        "yhat = pipe.predict(x_test)\n",
        "confusion_matrix(y_test,yhat)"
      ],
      "execution_count": 28,
      "outputs": [
        {
          "output_type": "execute_result",
          "data": {
            "text/plain": [
              "array([[255,   1,   5,   3,   6,   2,   0,  13,   4,  36,   7,   3,   2,\n",
              "          0,   0],\n",
              "       [  9, 221,   2,   1,   3,   2,   0,   5,   2,   2,   0,   1,   3,\n",
              "          2,   3],\n",
              "       [  6,   6, 505,   4,  14,   1,   1,   4,  12,   4,   9,   4,   2,\n",
              "          0,   0],\n",
              "       [  4,   1,   4, 640,   6,   0,   2,  11,  18,   6,   0,   3,   3,\n",
              "          0,   3],\n",
              "       [  5,   2,   4,  12, 637,   0,   0,  25,   2,   6,   2,   1,   1,\n",
              "          0,   0],\n",
              "       [  2,   9,   4,   2,   1, 344,   2,   1,   2,   1,   8,   2,   6,\n",
              "          0,   4],\n",
              "       [  1,   3,   2,   2,   1,   4, 408,   4,  17,   1,   8,  12,  12,\n",
              "          0,   1],\n",
              "       [  4,   4,   4,   7,  12,   0,   0, 173,  21,  13,   3,   2,   1,\n",
              "          0,   1],\n",
              "       [  0,   3,   0,   4,   1,   0,   6,   9, 166,   2,   8,   5,   6,\n",
              "          1,   0],\n",
              "       [  6,   1,   5,   2,   4,   0,   0,  22,   3,  80,   3,   0,   0,\n",
              "          0,   0],\n",
              "       [  0,   1,   5,   2,   2,   7,   4,   6,  13,   7, 314,   6,   8,\n",
              "          1,   3],\n",
              "       [  0,   3,   0,   0,   0,   2,   2,   0,   3,   2,   2,  60,   3,\n",
              "          0,   0],\n",
              "       [  0,   5,   0,   2,   0,   4,  14,   2,   5,   0,   3,   3, 266,\n",
              "          2,   4],\n",
              "       [  0,   5,   2,   0,   0,   0,   0,   2,   0,   0,   0,   0,   4,\n",
              "        201,   6],\n",
              "       [  0,   2,   1,   0,   0,   8,   1,   3,   3,   1,   1,   2,   5,\n",
              "          3, 145]])"
            ]
          },
          "metadata": {},
          "execution_count": 28
        }
      ]
    },
    {
      "cell_type": "code",
      "metadata": {
        "id": "6fjUhsWIsHRA",
        "colab": {
          "base_uri": "https://localhost:8080/"
        },
        "outputId": "6f0d32da-89b9-4cde-c7e7-7a80fba9aec2"
      },
      "source": [
        "\n",
        "print(classification_report(y_test, yhat, zero_division = 0))\n"
      ],
      "execution_count": 29,
      "outputs": [
        {
          "output_type": "stream",
          "name": "stdout",
          "text": [
            "              precision    recall  f1-score   support\n",
            "\n",
            "           1       0.87      0.76      0.81       337\n",
            "           2       0.83      0.86      0.85       256\n",
            "           3       0.93      0.88      0.91       572\n",
            "           4       0.94      0.91      0.93       701\n",
            "           5       0.93      0.91      0.92       697\n",
            "           6       0.92      0.89      0.90       388\n",
            "           7       0.93      0.86      0.89       476\n",
            "           8       0.62      0.71      0.66       245\n",
            "           9       0.61      0.79      0.69       211\n",
            "          10       0.50      0.63      0.56       126\n",
            "          11       0.85      0.83      0.84       379\n",
            "          12       0.58      0.78      0.66        77\n",
            "          13       0.83      0.86      0.84       310\n",
            "          14       0.96      0.91      0.93       220\n",
            "          15       0.85      0.83      0.84       175\n",
            "\n",
            "    accuracy                           0.85      5170\n",
            "   macro avg       0.81      0.83      0.82      5170\n",
            "weighted avg       0.86      0.85      0.86      5170\n",
            "\n"
          ]
        }
      ]
    },
    {
      "cell_type": "markdown",
      "metadata": {
        "id": "EXQd1cvJX1oY"
      },
      "source": [
        "according to this we can see that this is having more accuracy as it is 0.85"
      ]
    },
    {
      "cell_type": "code",
      "metadata": {
        "id": "zl4_JuhVuOFQ",
        "colab": {
          "base_uri": "https://localhost:8080/",
          "height": 224
        },
        "outputId": "03237bbf-4110-4fc8-87ee-35fba6e40737"
      },
      "source": [
        "osdgcum = get_top_features(pipe['vectoriser'], pipe['clf'], pipe['selector'], top_n = 15)\n",
        "print('Shape:', osdgcum.shape)\n",
        "osdgcum.head()"
      ],
      "execution_count": 30,
      "outputs": [
        {
          "output_type": "stream",
          "name": "stdout",
          "text": [
            "Shape: (225, 3)\n"
          ]
        },
        {
          "output_type": "execute_result",
          "data": {
            "text/html": [
              "<div>\n",
              "<style scoped>\n",
              "    .dataframe tbody tr th:only-of-type {\n",
              "        vertical-align: middle;\n",
              "    }\n",
              "\n",
              "    .dataframe tbody tr th {\n",
              "        vertical-align: top;\n",
              "    }\n",
              "\n",
              "    .dataframe thead th {\n",
              "        text-align: right;\n",
              "    }\n",
              "</style>\n",
              "<table border=\"1\" class=\"dataframe\">\n",
              "  <thead>\n",
              "    <tr style=\"text-align: right;\">\n",
              "      <th></th>\n",
              "      <th>sdg</th>\n",
              "      <th>feature</th>\n",
              "      <th>coef</th>\n",
              "    </tr>\n",
              "  </thead>\n",
              "  <tbody>\n",
              "    <tr>\n",
              "      <th>0</th>\n",
              "      <td>1</td>\n",
              "      <td>poverty</td>\n",
              "      <td>12.359248</td>\n",
              "    </tr>\n",
              "    <tr>\n",
              "      <th>1</th>\n",
              "      <td>1</td>\n",
              "      <td>poor</td>\n",
              "      <td>7.487851</td>\n",
              "    </tr>\n",
              "    <tr>\n",
              "      <th>2</th>\n",
              "      <td>1</td>\n",
              "      <td>child</td>\n",
              "      <td>4.959211</td>\n",
              "    </tr>\n",
              "    <tr>\n",
              "      <th>3</th>\n",
              "      <td>1</td>\n",
              "      <td>deprivation</td>\n",
              "      <td>4.511084</td>\n",
              "    </tr>\n",
              "    <tr>\n",
              "      <th>4</th>\n",
              "      <td>1</td>\n",
              "      <td>income</td>\n",
              "      <td>4.473869</td>\n",
              "    </tr>\n",
              "  </tbody>\n",
              "</table>\n",
              "</div>"
            ],
            "text/plain": [
              "   sdg      feature       coef\n",
              "0    1      poverty  12.359248\n",
              "1    1         poor   7.487851\n",
              "2    1        child   4.959211\n",
              "3    1  deprivation   4.511084\n",
              "4    1       income   4.473869"
            ]
          },
          "metadata": {},
          "execution_count": 30
        }
      ]
    },
    {
      "cell_type": "code",
      "metadata": {
        "id": "ZtELQRnQwheC",
        "colab": {
          "base_uri": "https://localhost:8080/",
          "height": 1000
        },
        "outputId": "9efa129c-89d3-44a6-91ac-c6e957ae118f"
      },
      "source": [
        "#here we are plotting which are having more a=occurences and which sgd they belong to \n",
        "import plotly.express as px\n",
        "\n",
        "osdgcum.sort_values(['sdg', 'coef'], ignore_index = True, inplace = True)\n",
        "\n",
        "colors = px.colors.qualitative.Dark24[:15]\n",
        "template = 'SDG: %{customdata}<br>Feature: %{y}<br>Coefficient: %{x:.2f}'\n",
        "\n",
        "fig = px.bar(\n",
        "    data_frame = osdgcum,\n",
        "    x = 'coef',\n",
        "    y = 'feature',\n",
        "    custom_data = ['sdg'],\n",
        "    facet_col = 'sdg',\n",
        "    facet_col_wrap = 3,\n",
        "    #facet_col_spacing = .15,\n",
        "    orientation = 'h',\n",
        "    height = 1200,\n",
        "    labels = {\n",
        "        'coef': 'Coefficient',\n",
        "        'feature': ''\n",
        "    },\n",
        "    title = '15 predictors'\n",
        ")\n",
        "\n",
        "fig.for_each_trace(lambda x: x.update(hovertemplate = template))\n",
        "fig.for_each_trace(lambda x: x.update(marker_color = colors.pop(0)))\n",
        "fig.update_yaxes(matches = None, showticklabels = True)\n",
        "\n",
        "fig.show()"
      ],
      "execution_count": 31,
      "outputs": [
        {
          "output_type": "display_data",
          "data": {
            "text/html": [
              "<html>\n",
              "<head><meta charset=\"utf-8\" /></head>\n",
              "<body>\n",
              "    <div>\n",
              "            <script src=\"https://cdnjs.cloudflare.com/ajax/libs/mathjax/2.7.5/MathJax.js?config=TeX-AMS-MML_SVG\"></script><script type=\"text/javascript\">if (window.MathJax) {MathJax.Hub.Config({SVG: {font: \"STIX-Web\"}});}</script>\n",
              "                <script type=\"text/javascript\">window.PlotlyConfig = {MathJaxConfig: 'local'};</script>\n",
              "        <script src=\"https://cdn.plot.ly/plotly-latest.min.js\"></script>    \n",
              "            <div id=\"21064873-98fa-4351-99c5-8cfd0983935b\" class=\"plotly-graph-div\" style=\"height:1200px; width:100%;\"></div>\n",
              "            <script type=\"text/javascript\">\n",
              "                \n",
              "                    window.PLOTLYENV=window.PLOTLYENV || {};\n",
              "                    \n",
              "                if (document.getElementById(\"21064873-98fa-4351-99c5-8cfd0983935b\")) {\n",
              "                    Plotly.newPlot(\n",
              "                        '21064873-98fa-4351-99c5-8cfd0983935b',\n",
              "                        [{\"alignmentgroup\": \"True\", \"customdata\": [[1], [1], [1], [1], [1], [1], [1], [1], [1], [1], [1], [1], [1], [1], [1]], \"hoverlabel\": {\"namelength\": 0}, \"hovertemplate\": \"SDG: %{customdata}<br>Feature: %{y}<br>Coefficient: %{x:.2f}\", \"legendgroup\": \"\", \"marker\": {\"color\": \"#2E91E5\"}, \"name\": \"\", \"offsetgroup\": \"\", \"orientation\": \"h\", \"showlegend\": false, \"textposition\": \"auto\", \"type\": \"bar\", \"x\": [1.7903326276524156, 1.8325009185568795, 1.8456375723164629, 1.8742379882771558, 1.9265084213144377, 2.18719618191374, 2.431315284611091, 2.705853587710282, 2.7885245210534286, 4.074458989854025, 4.473869188548514, 4.511083751995858, 4.95921149943779, 7.487850580980359, 12.35924840844018], \"xaxis\": \"x13\", \"y\": [\"protection\", \"poverty reduction\", \"monetary\", \"multidimensional\", \"live\", \"family\", \"transfer\", \"social\", \"social protection\", \"household\", \"income\", \"deprivation\", \"child\", \"poor\", \"poverty\"], \"yaxis\": \"y13\"}, {\"alignmentgroup\": \"True\", \"customdata\": [[2], [2], [2], [2], [2], [2], [2], [2], [2], [2], [2], [2], [2], [2], [2]], \"hoverlabel\": {\"namelength\": 0}, \"hovertemplate\": \"SDG: %{customdata}<br>Feature: %{y}<br>Coefficient: %{x:.2f}\", \"legendgroup\": \"\", \"marker\": {\"color\": \"#E15F99\"}, \"name\": \"\", \"offsetgroup\": \"\", \"orientation\": \"h\", \"showlegend\": false, \"textposition\": \"auto\", \"type\": \"bar\", \"x\": [2.170892644486063, 2.2383400975385292, 2.3631380676104974, 2.3788705174919746, 2.438473833431, 2.6822215611842886, 3.3805002964771256, 3.414182156909312, 3.7504815627805783, 3.980561833739517, 4.013666810101223, 4.353481725075608, 5.578556720298983, 7.187766999279194, 10.815285626281248], \"xaxis\": \"x14\", \"y\": [\"commodity\", \"food security\", \"wheat\", \"fertiliser\", \"livestock\", \"producer\", \"rice\", \"agriculture\", \"production\", \"crop\", \"farm\", \"price\", \"farmer\", \"agricultural\", \"food\"], \"yaxis\": \"y14\"}, {\"alignmentgroup\": \"True\", \"customdata\": [[3], [3], [3], [3], [3], [3], [3], [3], [3], [3], [3], [3], [3], [3], [3]], \"hoverlabel\": {\"namelength\": 0}, \"hovertemplate\": \"SDG: %{customdata}<br>Feature: %{y}<br>Coefficient: %{x:.2f}\", \"legendgroup\": \"\", \"marker\": {\"color\": \"#1CA71C\"}, \"name\": \"\", \"offsetgroup\": \"\", \"orientation\": \"h\", \"showlegend\": false, \"textposition\": \"auto\", \"type\": \"bar\", \"x\": [1.9866419716621713, 2.131310093932942, 2.2478836098451653, 2.751959912394609, 2.873747688377857, 2.9255892449526057, 3.112379878315855, 3.129583840883283, 3.217159896734558, 3.8484559766361954, 4.017547576684886, 4.972285298011761, 5.610187814796306, 6.995578447321232, 10.641746436220021], \"xaxis\": \"x15\", \"y\": [\"substance\", \"cancer\", \"health care\", \"death\", \"mental\", \"treatment\", \"alcohol\", \"medical\", \"mortality\", \"drug\", \"disease\", \"hospital\", \"patient\", \"care\", \"health\"], \"yaxis\": \"y15\"}, {\"alignmentgroup\": \"True\", \"customdata\": [[4], [4], [4], [4], [4], [4], [4], [4], [4], [4], [4], [4], [4], [4], [4]], \"hoverlabel\": {\"namelength\": 0}, \"hovertemplate\": \"SDG: %{customdata}<br>Feature: %{y}<br>Coefficient: %{x:.2f}\", \"legendgroup\": \"\", \"marker\": {\"color\": \"#FB0D0D\"}, \"name\": \"\", \"offsetgroup\": \"\", \"orientation\": \"h\", \"showlegend\": false, \"textposition\": \"auto\", \"type\": \"bar\", \"x\": [1.8336676462461396, 1.9129675544297153, 1.969794655485422, 2.122746554505991, 2.1820129231523127, 2.4434598787990223, 2.526288262407421, 2.6280514872518004, 2.6774894615125793, 3.679994686819608, 4.142879701810805, 7.340621202644723, 8.970883107592497, 9.080892008118912, 9.212428828736531], \"xaxis\": \"x10\", \"y\": [\"staff\", \"curriculum\", \"university\", \"education system\", \"high education\", \"child\", \"educational\", \"teaching\", \"learn\", \"learning\", \"skill\", \"teacher\", \"education\", \"student\", \"school\"], \"yaxis\": \"y10\"}, {\"alignmentgroup\": \"True\", \"customdata\": [[5], [5], [5], [5], [5], [5], [5], [5], [5], [5], [5], [5], [5], [5], [5]], \"hoverlabel\": {\"namelength\": 0}, \"hovertemplate\": \"SDG: %{customdata}<br>Feature: %{y}<br>Coefficient: %{x:.2f}\", \"legendgroup\": \"\", \"marker\": {\"color\": \"#DA16FF\"}, \"name\": \"\", \"offsetgroup\": \"\", \"orientation\": \"h\", \"showlegend\": false, \"textposition\": \"auto\", \"type\": \"bar\", \"x\": [1.778126428483399, 1.9257382684356446, 2.1847460033847583, 2.225930653585344, 2.2383210501042345, 2.250554678839111, 2.4606611675857626, 2.5657959200428357, 2.82837155482694, 2.8289897035037215, 3.8181304899196364, 4.279438002850943, 4.717175491497128, 10.120197280720804, 14.854667585354965], \"xaxis\": \"x11\", \"y\": [\"gap\", \"mother\", \"work\", \"equality\", \"gender equality\", \"male\", \"family\", \"marriage\", \"violence\", \"right\", \"man\", \"girl\", \"female\", \"gender\", \"woman\"], \"yaxis\": \"y11\"}, {\"alignmentgroup\": \"True\", \"customdata\": [[6], [6], [6], [6], [6], [6], [6], [6], [6], [6], [6], [6], [6], [6], [6]], \"hoverlabel\": {\"namelength\": 0}, \"hovertemplate\": \"SDG: %{customdata}<br>Feature: %{y}<br>Coefficient: %{x:.2f}\", \"legendgroup\": \"\", \"marker\": {\"color\": \"#222A2A\"}, \"name\": \"\", \"offsetgroup\": \"\", \"orientation\": \"h\", \"showlegend\": false, \"textposition\": \"auto\", \"type\": \"bar\", \"x\": [1.73011270722372, 1.7589790481510716, 1.7660224802275335, 1.9679030698172366, 2.081971946539078, 2.1884575284047316, 2.5179884339889416, 2.557151532322847, 2.560137118487951, 2.5732755478411766, 2.928905420357785, 3.4267239858875675, 4.081680676933343, 5.131021728725849, 15.803981964891134], \"xaxis\": \"x12\", \"y\": [\"water resource\", \"quality\", \"water supply\", \"water quality\", \"management\", \"transboundary\", \"aquifer\", \"pollution\", \"basin\", \"sanitation\", \"wastewater\", \"irrigation\", \"river\", \"groundwater\", \"water\"], \"yaxis\": \"y12\"}, {\"alignmentgroup\": \"True\", \"customdata\": [[7], [7], [7], [7], [7], [7], [7], [7], [7], [7], [7], [7], [7], [7], [7]], \"hoverlabel\": {\"namelength\": 0}, \"hovertemplate\": \"SDG: %{customdata}<br>Feature: %{y}<br>Coefficient: %{x:.2f}\", \"legendgroup\": \"\", \"marker\": {\"color\": \"#B68100\"}, \"name\": \"\", \"offsetgroup\": \"\", \"orientation\": \"h\", \"showlegend\": false, \"textposition\": \"auto\", \"type\": \"bar\", \"x\": [2.417125627099318, 2.5408081424392255, 2.666337191050664, 2.845793797638804, 2.8717571174076624, 2.9324999570933006, 3.0708125251828933, 3.243005261080801, 3.3168155221291133, 3.378818536223491, 3.4538850465937863, 4.245457122840327, 5.335448901188408, 7.212489248647936, 11.330449320073368], \"xaxis\": \"x7\", \"y\": [\"capacity\", \"nuclear\", \"generation\", \"fuel\", \"plant\", \"solar\", \"technology\", \"gas\", \"cost\", \"wind\", \"grid\", \"renewable\", \"power\", \"electricity\", \"energy\"], \"yaxis\": \"y7\"}, {\"alignmentgroup\": \"True\", \"customdata\": [[8], [8], [8], [8], [8], [8], [8], [8], [8], [8], [8], [8], [8], [8], [8]], \"hoverlabel\": {\"namelength\": 0}, \"hovertemplate\": \"SDG: %{customdata}<br>Feature: %{y}<br>Coefficient: %{x:.2f}\", \"legendgroup\": \"\", \"marker\": {\"color\": \"#750D86\"}, \"name\": \"\", \"offsetgroup\": \"\", \"orientation\": \"h\", \"showlegend\": false, \"textposition\": \"auto\", \"type\": \"bar\", \"x\": [2.0359246786819036, 2.0898357176288083, 2.141150148124931, 2.2236785402949577, 2.3644236078728094, 2.3876438891484777, 2.3904270146855358, 3.354521941794226, 3.4491948505408696, 3.8773721378326416, 3.9542370360889536, 4.431604056213826, 4.852004778861506, 4.967322129370644, 5.465447671194607], \"xaxis\": \"x8\", \"y\": [\"employee\", \"foreign\", \"labour market\", \"rate\", \"young\", \"economy\", \"employer\", \"unemployment\", \"work\", \"youth\", \"tourism\", \"worker\", \"labour\", \"job\", \"employment\"], \"yaxis\": \"y8\"}, {\"alignmentgroup\": \"True\", \"customdata\": [[9], [9], [9], [9], [9], [9], [9], [9], [9], [9], [9], [9], [9], [9], [9]], \"hoverlabel\": {\"namelength\": 0}, \"hovertemplate\": \"SDG: %{customdata}<br>Feature: %{y}<br>Coefficient: %{x:.2f}\", \"legendgroup\": \"\", \"marker\": {\"color\": \"#EB663B\"}, \"name\": \"\", \"offsetgroup\": \"\", \"orientation\": \"h\", \"showlegend\": false, \"textposition\": \"auto\", \"type\": \"bar\", \"x\": [2.3653880734707577, 2.4808014575354904, 2.6165800931687575, 2.9548901499359945, 3.196847745330742, 3.37358151753477, 3.4362917839012077, 3.5036227358344254, 3.515800162266328, 3.631613675628348, 4.004811205681924, 4.258138378024396, 4.447632034246628, 5.264825349062628, 6.102046216334297], \"xaxis\": \"x9\", \"y\": [\"sme\", \"access\", \"connectivity\", \"ict\", \"firm\", \"platform\", \"mobile\", \"broadband\", \"blockchain\", \"internet\", \"network\", \"digital\", \"infrastructure\", \"technology\", \"innovation\"], \"yaxis\": \"y9\"}, {\"alignmentgroup\": \"True\", \"customdata\": [[10], [10], [10], [10], [10], [10], [10], [10], [10], [10], [10], [10], [10], [10], [10]], \"hoverlabel\": {\"namelength\": 0}, \"hovertemplate\": \"SDG: %{customdata}<br>Feature: %{y}<br>Coefficient: %{x:.2f}\", \"legendgroup\": \"\", \"marker\": {\"color\": \"#511CFB\"}, \"name\": \"\", \"offsetgroup\": \"\", \"orientation\": \"h\", \"showlegend\": false, \"textposition\": \"auto\", \"type\": \"bar\", \"x\": [2.1156846076861027, 2.316142938273041, 2.4564599746765228, 2.5663418896193635, 2.5870851021229715, 2.595376709875034, 2.608122601331065, 2.6357839387756665, 2.684430576050957, 2.8274083206910214, 3.083013432054392, 3.1152490392150356, 3.619630935838833, 5.597973199813008, 7.811141451039612], \"xaxis\": \"x4\", \"y\": [\"equality\", \"income inequality\", \"redistribution\", \"benefit\", \"labour\", \"remittance\", \"country\", \"unemployment\", \"wage\", \"tax\", \"distribution\", \"social\", \"worker\", \"income\", \"inequality\"], \"yaxis\": \"y4\"}, {\"alignmentgroup\": \"True\", \"customdata\": [[11], [11], [11], [11], [11], [11], [11], [11], [11], [11], [11], [11], [11], [11], [11]], \"hoverlabel\": {\"namelength\": 0}, \"hovertemplate\": \"SDG: %{customdata}<br>Feature: %{y}<br>Coefficient: %{x:.2f}\", \"legendgroup\": \"\", \"marker\": {\"color\": \"#00A08B\"}, \"name\": \"\", \"offsetgroup\": \"\", \"orientation\": \"h\", \"showlegend\": false, \"textposition\": \"auto\", \"type\": \"bar\", \"x\": [2.3752269097641143, 2.446395676411911, 2.479226035995451, 2.4810509149332014, 2.5106906584510007, 2.6563144483969356, 2.686058441481166, 2.751171104052254, 2.8237098864596293, 3.390432135500589, 3.527584129052279, 5.210178372810254, 5.716238887743054, 7.784405058701979, 9.030407583178741], \"xaxis\": \"x5\", \"y\": [\"mobility\", \"land\", \"vehicle\", \"traffic\", \"government\", \"local\", \"bus\", \"public transport\", \"plan\", \"road\", \"planning\", \"transport\", \"housing\", \"urban\", \"city\"], \"yaxis\": \"y5\"}, {\"alignmentgroup\": \"True\", \"customdata\": [[12], [12], [12], [12], [12], [12], [12], [12], [12], [12], [12], [12], [12], [12], [12]], \"hoverlabel\": {\"namelength\": 0}, \"hovertemplate\": \"SDG: %{customdata}<br>Feature: %{y}<br>Coefficient: %{x:.2f}\", \"legendgroup\": \"\", \"marker\": {\"color\": \"#FB00D1\"}, \"name\": \"\", \"offsetgroup\": \"\", \"orientation\": \"h\", \"showlegend\": false, \"textposition\": \"auto\", \"type\": \"bar\", \"x\": [2.490955892673936, 2.5510916481475405, 2.6100502153980125, 2.6569891683600693, 2.794636107989036, 2.851841673798925, 2.8860342974894193, 2.9406302324440454, 3.5411555591051673, 3.6319501601043704, 4.103643919415242, 4.104333066329624, 4.495434719484692, 4.736142873364682, 8.695203286646318], \"xaxis\": \"x6\", \"y\": [\"collection\", \"extraction\", \"green\", \"sustainable\", \"chemical\", \"tourism\", \"resource efficiency\", \"environmental\", \"company\", \"resource\", \"recycling\", \"consumption\", \"product\", \"material\", \"waste\"], \"yaxis\": \"y6\"}, {\"alignmentgroup\": \"True\", \"customdata\": [[13], [13], [13], [13], [13], [13], [13], [13], [13], [13], [13], [13], [13], [13], [13]], \"hoverlabel\": {\"namelength\": 0}, \"hovertemplate\": \"SDG: %{customdata}<br>Feature: %{y}<br>Coefficient: %{x:.2f}\", \"legendgroup\": \"\", \"marker\": {\"color\": \"#FC0080\"}, \"name\": \"\", \"offsetgroup\": \"\", \"orientation\": \"h\", \"showlegend\": false, \"textposition\": \"auto\", \"type\": \"bar\", \"x\": [2.1300100902387684, 2.1839214238379037, 2.200905637945893, 2.207077930775048, 2.286816629244339, 2.354347498942121, 2.748084872996917, 2.7819895940967667, 2.8994047067633955, 3.45233995926046, 3.8363316483089025, 4.338130093572424, 5.002551722276519, 7.0881826181018415, 11.825850768625711], \"xaxis\": \"x\", \"y\": [\"hazard\", \"temperature\", \"green\", \"action\", \"disaster\", \"risk\", \"change\", \"carbon\", \"climate finance\", \"mitigation\", \"climate change\", \"finance\", \"emission\", \"adaptation\", \"climate\"], \"yaxis\": \"y\"}, {\"alignmentgroup\": \"True\", \"customdata\": [[14], [14], [14], [14], [14], [14], [14], [14], [14], [14], [14], [14], [14], [14], [14]], \"hoverlabel\": {\"namelength\": 0}, \"hovertemplate\": \"SDG: %{customdata}<br>Feature: %{y}<br>Coefficient: %{x:.2f}\", \"legendgroup\": \"\", \"marker\": {\"color\": \"#B2828D\"}, \"name\": \"\", \"offsetgroup\": \"\", \"orientation\": \"h\", \"showlegend\": false, \"textposition\": \"auto\", \"type\": \"bar\", \"x\": [2.803125284730445, 2.8948850448013226, 3.147683031729437, 3.3784110991739427, 3.545907084774395, 3.9269688963466605, 4.115539982938044, 4.141013693262787, 4.277704443001892, 5.547926705779963, 5.590928396102644, 5.902365503591318, 6.3290382202464714, 7.117509109190091, 10.23189965781357], \"xaxis\": \"x2\", \"y\": [\"seafood\", \"coastal\", \"sea\", \"management\", \"stock\", \"specie\", \"fisher\", \"vessel\", \"catch\", \"aquaculture\", \"ocean\", \"fishing\", \"marine\", \"fish\", \"fishery\"], \"yaxis\": \"y2\"}, {\"alignmentgroup\": \"True\", \"customdata\": [[15], [15], [15], [15], [15], [15], [15], [15], [15], [15], [15], [15], [15], [15], [15]], \"hoverlabel\": {\"namelength\": 0}, \"hovertemplate\": \"SDG: %{customdata}<br>Feature: %{y}<br>Coefficient: %{x:.2f}\", \"legendgroup\": \"\", \"marker\": {\"color\": \"#6C7C32\"}, \"name\": \"\", \"offsetgroup\": \"\", \"orientation\": \"h\", \"showlegend\": false, \"textposition\": \"auto\", \"type\": \"bar\", \"x\": [2.2625770474910927, 2.4301598286303285, 2.503822665696199, 2.5779936523024585, 2.578072564299102, 2.6068238608755823, 2.9071752048473427, 3.1211372181187023, 3.154332982515555, 3.5194957067570414, 3.535700973196708, 3.796798611135265, 4.5204896825239285, 8.567550932224504, 10.450028466382575], \"xaxis\": \"x3\", \"y\": [\"restoration\", \"habitat\", \"ecosystem\", \"land\", \"bird\", \"timber\", \"landscape\", \"conservation\", \"area\", \"protect area\", \"protect\", \"forestry\", \"specie\", \"biodiversity\", \"forest\"], \"yaxis\": \"y3\"}],\n",
              "                        {\"annotations\": [{\"font\": {}, \"showarrow\": false, \"text\": \"sdg=13\", \"x\": 0.15999999999999998, \"xanchor\": \"center\", \"xref\": \"paper\", \"y\": 0.144, \"yanchor\": \"bottom\", \"yref\": \"paper\"}, {\"font\": {}, \"showarrow\": false, \"text\": \"sdg=14\", \"x\": 0.49999999999999994, \"xanchor\": \"center\", \"xref\": \"paper\", \"y\": 0.144, \"yanchor\": \"bottom\", \"yref\": \"paper\"}, {\"font\": {}, \"showarrow\": false, \"text\": \"sdg=15\", \"x\": 0.8399999999999999, \"xanchor\": \"center\", \"xref\": \"paper\", \"y\": 0.144, \"yanchor\": \"bottom\", \"yref\": \"paper\"}, {\"font\": {}, \"showarrow\": false, \"text\": \"sdg=10\", \"x\": 0.15999999999999998, \"xanchor\": \"center\", \"xref\": \"paper\", \"y\": 0.358, \"yanchor\": \"bottom\", \"yref\": \"paper\"}, {\"font\": {}, \"showarrow\": false, \"text\": \"sdg=11\", \"x\": 0.49999999999999994, \"xanchor\": \"center\", \"xref\": \"paper\", \"y\": 0.358, \"yanchor\": \"bottom\", \"yref\": \"paper\"}, {\"font\": {}, \"showarrow\": false, \"text\": \"sdg=12\", \"x\": 0.8399999999999999, \"xanchor\": \"center\", \"xref\": \"paper\", \"y\": 0.358, \"yanchor\": \"bottom\", \"yref\": \"paper\"}, {\"font\": {}, \"showarrow\": false, \"text\": \"sdg=7\", \"x\": 0.15999999999999998, \"xanchor\": \"center\", \"xref\": \"paper\", \"y\": 0.572, \"yanchor\": \"bottom\", \"yref\": \"paper\"}, {\"font\": {}, \"showarrow\": false, \"text\": \"sdg=8\", \"x\": 0.49999999999999994, \"xanchor\": \"center\", \"xref\": \"paper\", \"y\": 0.572, \"yanchor\": \"bottom\", \"yref\": \"paper\"}, {\"font\": {}, \"showarrow\": false, \"text\": \"sdg=9\", \"x\": 0.8399999999999999, \"xanchor\": \"center\", \"xref\": \"paper\", \"y\": 0.572, \"yanchor\": \"bottom\", \"yref\": \"paper\"}, {\"font\": {}, \"showarrow\": false, \"text\": \"sdg=4\", \"x\": 0.15999999999999998, \"xanchor\": \"center\", \"xref\": \"paper\", \"y\": 0.7859999999999999, \"yanchor\": \"bottom\", \"yref\": \"paper\"}, {\"font\": {}, \"showarrow\": false, \"text\": \"sdg=5\", \"x\": 0.49999999999999994, \"xanchor\": \"center\", \"xref\": \"paper\", \"y\": 0.7859999999999999, \"yanchor\": \"bottom\", \"yref\": \"paper\"}, {\"font\": {}, \"showarrow\": false, \"text\": \"sdg=6\", \"x\": 0.8399999999999999, \"xanchor\": \"center\", \"xref\": \"paper\", \"y\": 0.7859999999999999, \"yanchor\": \"bottom\", \"yref\": \"paper\"}, {\"font\": {}, \"showarrow\": false, \"text\": \"sdg=1\", \"x\": 0.15999999999999998, \"xanchor\": \"center\", \"xref\": \"paper\", \"y\": 1.0, \"yanchor\": \"bottom\", \"yref\": \"paper\"}, {\"font\": {}, \"showarrow\": false, \"text\": \"sdg=2\", \"x\": 0.49999999999999994, \"xanchor\": \"center\", \"xref\": \"paper\", \"y\": 1.0, \"yanchor\": \"bottom\", \"yref\": \"paper\"}, {\"font\": {}, \"showarrow\": false, \"text\": \"sdg=3\", \"x\": 0.8399999999999999, \"xanchor\": \"center\", \"xref\": \"paper\", \"y\": 1.0, \"yanchor\": \"bottom\", \"yref\": \"paper\"}], \"barmode\": \"relative\", \"height\": 1200, \"legend\": {\"tracegroupgap\": 0}, \"template\": {\"data\": {\"bar\": [{\"error_x\": {\"color\": \"#2a3f5f\"}, \"error_y\": {\"color\": \"#2a3f5f\"}, \"marker\": {\"line\": {\"color\": \"white\", \"width\": 0.5}}, \"type\": \"bar\"}], \"barpolar\": [{\"marker\": {\"line\": {\"color\": \"white\", \"width\": 0.5}}, \"type\": \"barpolar\"}], \"carpet\": [{\"aaxis\": {\"endlinecolor\": \"#2a3f5f\", \"gridcolor\": \"#C8D4E3\", \"linecolor\": \"#C8D4E3\", \"minorgridcolor\": \"#C8D4E3\", \"startlinecolor\": \"#2a3f5f\"}, \"baxis\": {\"endlinecolor\": \"#2a3f5f\", \"gridcolor\": \"#C8D4E3\", \"linecolor\": \"#C8D4E3\", \"minorgridcolor\": \"#C8D4E3\", \"startlinecolor\": \"#2a3f5f\"}, \"type\": \"carpet\"}], \"choropleth\": [{\"colorbar\": {\"outlinewidth\": 0, \"ticks\": \"\"}, \"type\": \"choropleth\"}], \"contour\": [{\"colorbar\": {\"outlinewidth\": 0, \"ticks\": \"\"}, \"colorscale\": [[0.0, \"#0d0887\"], [0.1111111111111111, \"#46039f\"], [0.2222222222222222, \"#7201a8\"], [0.3333333333333333, \"#9c179e\"], [0.4444444444444444, \"#bd3786\"], [0.5555555555555556, \"#d8576b\"], [0.6666666666666666, \"#ed7953\"], [0.7777777777777778, \"#fb9f3a\"], [0.8888888888888888, \"#fdca26\"], [1.0, \"#f0f921\"]], \"type\": \"contour\"}], \"contourcarpet\": [{\"colorbar\": {\"outlinewidth\": 0, \"ticks\": \"\"}, \"type\": \"contourcarpet\"}], \"heatmap\": [{\"colorbar\": {\"outlinewidth\": 0, \"ticks\": \"\"}, \"colorscale\": [[0.0, \"#0d0887\"], [0.1111111111111111, \"#46039f\"], [0.2222222222222222, \"#7201a8\"], [0.3333333333333333, \"#9c179e\"], [0.4444444444444444, \"#bd3786\"], [0.5555555555555556, \"#d8576b\"], [0.6666666666666666, \"#ed7953\"], [0.7777777777777778, \"#fb9f3a\"], [0.8888888888888888, \"#fdca26\"], [1.0, \"#f0f921\"]], \"type\": \"heatmap\"}], \"heatmapgl\": [{\"colorbar\": {\"outlinewidth\": 0, \"ticks\": \"\"}, \"colorscale\": [[0.0, \"#0d0887\"], [0.1111111111111111, \"#46039f\"], [0.2222222222222222, \"#7201a8\"], [0.3333333333333333, \"#9c179e\"], [0.4444444444444444, \"#bd3786\"], [0.5555555555555556, \"#d8576b\"], [0.6666666666666666, \"#ed7953\"], [0.7777777777777778, \"#fb9f3a\"], [0.8888888888888888, \"#fdca26\"], [1.0, \"#f0f921\"]], \"type\": \"heatmapgl\"}], \"histogram\": [{\"marker\": {\"colorbar\": {\"outlinewidth\": 0, \"ticks\": \"\"}}, \"type\": \"histogram\"}], \"histogram2d\": [{\"colorbar\": {\"outlinewidth\": 0, \"ticks\": \"\"}, \"colorscale\": [[0.0, \"#0d0887\"], [0.1111111111111111, \"#46039f\"], [0.2222222222222222, \"#7201a8\"], [0.3333333333333333, \"#9c179e\"], [0.4444444444444444, \"#bd3786\"], [0.5555555555555556, \"#d8576b\"], [0.6666666666666666, \"#ed7953\"], [0.7777777777777778, \"#fb9f3a\"], [0.8888888888888888, \"#fdca26\"], [1.0, \"#f0f921\"]], \"type\": \"histogram2d\"}], \"histogram2dcontour\": [{\"colorbar\": {\"outlinewidth\": 0, \"ticks\": \"\"}, \"colorscale\": [[0.0, \"#0d0887\"], [0.1111111111111111, \"#46039f\"], [0.2222222222222222, \"#7201a8\"], [0.3333333333333333, \"#9c179e\"], [0.4444444444444444, \"#bd3786\"], [0.5555555555555556, \"#d8576b\"], [0.6666666666666666, \"#ed7953\"], [0.7777777777777778, \"#fb9f3a\"], [0.8888888888888888, \"#fdca26\"], [1.0, \"#f0f921\"]], \"type\": \"histogram2dcontour\"}], \"mesh3d\": [{\"colorbar\": {\"outlinewidth\": 0, \"ticks\": \"\"}, \"type\": \"mesh3d\"}], \"parcoords\": [{\"line\": {\"colorbar\": {\"outlinewidth\": 0, \"ticks\": \"\"}}, \"type\": \"parcoords\"}], \"pie\": [{\"automargin\": true, \"type\": \"pie\"}], \"scatter\": [{\"marker\": {\"colorbar\": {\"outlinewidth\": 0, \"ticks\": \"\"}}, \"type\": \"scatter\"}], \"scatter3d\": [{\"line\": {\"colorbar\": {\"outlinewidth\": 0, \"ticks\": \"\"}}, \"marker\": {\"colorbar\": {\"outlinewidth\": 0, \"ticks\": \"\"}}, \"type\": \"scatter3d\"}], \"scattercarpet\": [{\"marker\": {\"colorbar\": {\"outlinewidth\": 0, \"ticks\": \"\"}}, \"type\": \"scattercarpet\"}], \"scattergeo\": [{\"marker\": {\"colorbar\": {\"outlinewidth\": 0, \"ticks\": \"\"}}, \"type\": \"scattergeo\"}], \"scattergl\": [{\"marker\": {\"colorbar\": {\"outlinewidth\": 0, \"ticks\": \"\"}}, \"type\": \"scattergl\"}], \"scattermapbox\": [{\"marker\": {\"colorbar\": {\"outlinewidth\": 0, \"ticks\": \"\"}}, \"type\": \"scattermapbox\"}], \"scatterpolar\": [{\"marker\": {\"colorbar\": {\"outlinewidth\": 0, \"ticks\": \"\"}}, \"type\": \"scatterpolar\"}], \"scatterpolargl\": [{\"marker\": {\"colorbar\": {\"outlinewidth\": 0, \"ticks\": \"\"}}, \"type\": \"scatterpolargl\"}], \"scatterternary\": [{\"marker\": {\"colorbar\": {\"outlinewidth\": 0, \"ticks\": \"\"}}, \"type\": \"scatterternary\"}], \"surface\": [{\"colorbar\": {\"outlinewidth\": 0, \"ticks\": \"\"}, \"colorscale\": [[0.0, \"#0d0887\"], [0.1111111111111111, \"#46039f\"], [0.2222222222222222, \"#7201a8\"], [0.3333333333333333, \"#9c179e\"], [0.4444444444444444, \"#bd3786\"], [0.5555555555555556, \"#d8576b\"], [0.6666666666666666, \"#ed7953\"], [0.7777777777777778, \"#fb9f3a\"], [0.8888888888888888, \"#fdca26\"], [1.0, \"#f0f921\"]], \"type\": \"surface\"}], \"table\": [{\"cells\": {\"fill\": {\"color\": \"#EBF0F8\"}, \"line\": {\"color\": \"white\"}}, \"header\": {\"fill\": {\"color\": \"#C8D4E3\"}, \"line\": {\"color\": \"white\"}}, \"type\": \"table\"}]}, \"layout\": {\"annotationdefaults\": {\"arrowcolor\": \"#2a3f5f\", \"arrowhead\": 0, \"arrowwidth\": 1}, \"coloraxis\": {\"colorbar\": {\"outlinewidth\": 0, \"ticks\": \"\"}}, \"colorscale\": {\"diverging\": [[0, \"#8e0152\"], [0.1, \"#c51b7d\"], [0.2, \"#de77ae\"], [0.3, \"#f1b6da\"], [0.4, \"#fde0ef\"], [0.5, \"#f7f7f7\"], [0.6, \"#e6f5d0\"], [0.7, \"#b8e186\"], [0.8, \"#7fbc41\"], [0.9, \"#4d9221\"], [1, \"#276419\"]], \"sequential\": [[0.0, \"#0d0887\"], [0.1111111111111111, \"#46039f\"], [0.2222222222222222, \"#7201a8\"], [0.3333333333333333, \"#9c179e\"], [0.4444444444444444, \"#bd3786\"], [0.5555555555555556, \"#d8576b\"], [0.6666666666666666, \"#ed7953\"], [0.7777777777777778, \"#fb9f3a\"], [0.8888888888888888, \"#fdca26\"], [1.0, \"#f0f921\"]], \"sequentialminus\": [[0.0, \"#0d0887\"], [0.1111111111111111, \"#46039f\"], [0.2222222222222222, \"#7201a8\"], [0.3333333333333333, \"#9c179e\"], [0.4444444444444444, \"#bd3786\"], [0.5555555555555556, \"#d8576b\"], [0.6666666666666666, \"#ed7953\"], [0.7777777777777778, \"#fb9f3a\"], [0.8888888888888888, \"#fdca26\"], [1.0, \"#f0f921\"]]}, \"colorway\": [\"#636efa\", \"#EF553B\", \"#00cc96\", \"#ab63fa\", \"#FFA15A\", \"#19d3f3\", \"#FF6692\", \"#B6E880\", \"#FF97FF\", \"#FECB52\"], \"font\": {\"color\": \"#2a3f5f\"}, \"geo\": {\"bgcolor\": \"white\", \"lakecolor\": \"white\", \"landcolor\": \"white\", \"showlakes\": true, \"showland\": true, \"subunitcolor\": \"#C8D4E3\"}, \"hoverlabel\": {\"align\": \"left\"}, \"hovermode\": \"closest\", \"mapbox\": {\"style\": \"light\"}, \"paper_bgcolor\": \"white\", \"plot_bgcolor\": \"white\", \"polar\": {\"angularaxis\": {\"gridcolor\": \"#EBF0F8\", \"linecolor\": \"#EBF0F8\", \"ticks\": \"\"}, \"bgcolor\": \"white\", \"radialaxis\": {\"gridcolor\": \"#EBF0F8\", \"linecolor\": \"#EBF0F8\", \"ticks\": \"\"}}, \"scene\": {\"xaxis\": {\"backgroundcolor\": \"white\", \"gridcolor\": \"#DFE8F3\", \"gridwidth\": 2, \"linecolor\": \"#EBF0F8\", \"showbackground\": true, \"ticks\": \"\", \"zerolinecolor\": \"#EBF0F8\"}, \"yaxis\": {\"backgroundcolor\": \"white\", \"gridcolor\": \"#DFE8F3\", \"gridwidth\": 2, \"linecolor\": \"#EBF0F8\", \"showbackground\": true, \"ticks\": \"\", \"zerolinecolor\": \"#EBF0F8\"}, \"zaxis\": {\"backgroundcolor\": \"white\", \"gridcolor\": \"#DFE8F3\", \"gridwidth\": 2, \"linecolor\": \"#EBF0F8\", \"showbackground\": true, \"ticks\": \"\", \"zerolinecolor\": \"#EBF0F8\"}}, \"shapedefaults\": {\"line\": {\"color\": \"#2a3f5f\"}}, \"ternary\": {\"aaxis\": {\"gridcolor\": \"#DFE8F3\", \"linecolor\": \"#A2B1C6\", \"ticks\": \"\"}, \"baxis\": {\"gridcolor\": \"#DFE8F3\", \"linecolor\": \"#A2B1C6\", \"ticks\": \"\"}, \"bgcolor\": \"white\", \"caxis\": {\"gridcolor\": \"#DFE8F3\", \"linecolor\": \"#A2B1C6\", \"ticks\": \"\"}}, \"title\": {\"x\": 0.05}, \"xaxis\": {\"automargin\": true, \"gridcolor\": \"#EBF0F8\", \"linecolor\": \"#EBF0F8\", \"ticks\": \"\", \"title\": {\"standoff\": 15}, \"zerolinecolor\": \"#EBF0F8\", \"zerolinewidth\": 2}, \"yaxis\": {\"automargin\": true, \"gridcolor\": \"#EBF0F8\", \"linecolor\": \"#EBF0F8\", \"ticks\": \"\", \"title\": {\"standoff\": 15}, \"zerolinecolor\": \"#EBF0F8\", \"zerolinewidth\": 2}}}, \"title\": {\"text\": \"15 predictors\"}, \"xaxis\": {\"anchor\": \"y\", \"domain\": [0.0, 0.31999999999999995], \"title\": {\"text\": \"Coefficient\"}}, \"xaxis10\": {\"anchor\": \"y10\", \"domain\": [0.0, 0.31999999999999995], \"matches\": \"x\", \"showticklabels\": false}, \"xaxis11\": {\"anchor\": \"y11\", \"domain\": [0.33999999999999997, 0.6599999999999999], \"matches\": \"x\", \"showticklabels\": false}, \"xaxis12\": {\"anchor\": \"y12\", \"domain\": [0.6799999999999999, 0.9999999999999999], \"matches\": \"x\", \"showticklabels\": false}, \"xaxis13\": {\"anchor\": \"y13\", \"domain\": [0.0, 0.31999999999999995], \"matches\": \"x\", \"showticklabels\": false}, \"xaxis14\": {\"anchor\": \"y14\", \"domain\": [0.33999999999999997, 0.6599999999999999], \"matches\": \"x\", \"showticklabels\": false}, \"xaxis15\": {\"anchor\": \"y15\", \"domain\": [0.6799999999999999, 0.9999999999999999], \"matches\": \"x\", \"showticklabels\": false}, \"xaxis2\": {\"anchor\": \"y2\", \"domain\": [0.33999999999999997, 0.6599999999999999], \"matches\": \"x\", \"title\": {\"text\": \"Coefficient\"}}, \"xaxis3\": {\"anchor\": \"y3\", \"domain\": [0.6799999999999999, 0.9999999999999999], \"matches\": \"x\", \"title\": {\"text\": \"Coefficient\"}}, \"xaxis4\": {\"anchor\": \"y4\", \"domain\": [0.0, 0.31999999999999995], \"matches\": \"x\", \"showticklabels\": false}, \"xaxis5\": {\"anchor\": \"y5\", \"domain\": [0.33999999999999997, 0.6599999999999999], \"matches\": \"x\", \"showticklabels\": false}, \"xaxis6\": {\"anchor\": \"y6\", \"domain\": [0.6799999999999999, 0.9999999999999999], \"matches\": \"x\", \"showticklabels\": false}, \"xaxis7\": {\"anchor\": \"y7\", \"domain\": [0.0, 0.31999999999999995], \"matches\": \"x\", \"showticklabels\": false}, \"xaxis8\": {\"anchor\": \"y8\", \"domain\": [0.33999999999999997, 0.6599999999999999], \"matches\": \"x\", \"showticklabels\": false}, \"xaxis9\": {\"anchor\": \"y9\", \"domain\": [0.6799999999999999, 0.9999999999999999], \"matches\": \"x\", \"showticklabels\": false}, \"yaxis\": {\"anchor\": \"x\", \"domain\": [0.0, 0.144], \"showticklabels\": true, \"title\": {\"text\": \"\"}}, \"yaxis10\": {\"anchor\": \"x10\", \"domain\": [0.6419999999999999, 0.7859999999999999], \"showticklabels\": true, \"title\": {\"text\": \"\"}}, \"yaxis11\": {\"anchor\": \"x11\", \"domain\": [0.6419999999999999, 0.7859999999999999], \"showticklabels\": true}, \"yaxis12\": {\"anchor\": \"x12\", \"domain\": [0.6419999999999999, 0.7859999999999999], \"showticklabels\": true}, \"yaxis13\": {\"anchor\": \"x13\", \"domain\": [0.856, 1.0], \"showticklabels\": true, \"title\": {\"text\": \"\"}}, \"yaxis14\": {\"anchor\": \"x14\", \"domain\": [0.856, 1.0], \"showticklabels\": true}, \"yaxis15\": {\"anchor\": \"x15\", \"domain\": [0.856, 1.0], \"showticklabels\": true}, \"yaxis2\": {\"anchor\": \"x2\", \"domain\": [0.0, 0.144], \"showticklabels\": true}, \"yaxis3\": {\"anchor\": \"x3\", \"domain\": [0.0, 0.144], \"showticklabels\": true}, \"yaxis4\": {\"anchor\": \"x4\", \"domain\": [0.214, 0.358], \"showticklabels\": true, \"title\": {\"text\": \"\"}}, \"yaxis5\": {\"anchor\": \"x5\", \"domain\": [0.214, 0.358], \"showticklabels\": true}, \"yaxis6\": {\"anchor\": \"x6\", \"domain\": [0.214, 0.358], \"showticklabels\": true}, \"yaxis7\": {\"anchor\": \"x7\", \"domain\": [0.428, 0.572], \"showticklabels\": true, \"title\": {\"text\": \"\"}}, \"yaxis8\": {\"anchor\": \"x8\", \"domain\": [0.428, 0.572], \"showticklabels\": true}, \"yaxis9\": {\"anchor\": \"x9\", \"domain\": [0.428, 0.572], \"showticklabels\": true}},\n",
              "                        {\"responsive\": true}\n",
              "                    ).then(function(){\n",
              "                            \n",
              "var gd = document.getElementById('21064873-98fa-4351-99c5-8cfd0983935b');\n",
              "var x = new MutationObserver(function (mutations, observer) {{\n",
              "        var display = window.getComputedStyle(gd).display;\n",
              "        if (!display || display === 'none') {{\n",
              "            console.log([gd, 'removed!']);\n",
              "            Plotly.purge(gd);\n",
              "            observer.disconnect();\n",
              "        }}\n",
              "}});\n",
              "\n",
              "// Listen for the removal of the full notebook cells\n",
              "var notebookContainer = gd.closest('#notebook-container');\n",
              "if (notebookContainer) {{\n",
              "    x.observe(notebookContainer, {childList: true});\n",
              "}}\n",
              "\n",
              "// Listen for the clearing of the current output cell\n",
              "var outputEl = gd.closest('.output');\n",
              "if (outputEl) {{\n",
              "    x.observe(outputEl, {childList: true});\n",
              "}}\n",
              "\n",
              "                        })\n",
              "                };\n",
              "                \n",
              "            </script>\n",
              "        </div>\n",
              "</body>\n",
              "</html>"
            ]
          },
          "metadata": {}
        }
      ]
    },
    {
      "cell_type": "code",
      "metadata": {
        "id": "9nvLkZNcxD7O",
        "colab": {
          "base_uri": "https://localhost:8080/",
          "height": 363
        },
        "outputId": "58b04567-82a0-4ed9-9f7c-0c86992d9155"
      },
      "source": [
        "osmodel.loc[osmodel.sdg == 15].sample(10)[['text','sdg']]"
      ],
      "execution_count": 32,
      "outputs": [
        {
          "output_type": "execute_result",
          "data": {
            "text/html": [
              "<div>\n",
              "<style scoped>\n",
              "    .dataframe tbody tr th:only-of-type {\n",
              "        vertical-align: middle;\n",
              "    }\n",
              "\n",
              "    .dataframe tbody tr th {\n",
              "        vertical-align: top;\n",
              "    }\n",
              "\n",
              "    .dataframe thead th {\n",
              "        text-align: right;\n",
              "    }\n",
              "</style>\n",
              "<table border=\"1\" class=\"dataframe\">\n",
              "  <thead>\n",
              "    <tr style=\"text-align: right;\">\n",
              "      <th></th>\n",
              "      <th>text</th>\n",
              "      <th>sdg</th>\n",
              "    </tr>\n",
              "  </thead>\n",
              "  <tbody>\n",
              "    <tr>\n",
              "      <th>30778</th>\n",
              "      <td>The Law regulates breeding, protection, huntin...</td>\n",
              "      <td>15</td>\n",
              "    </tr>\n",
              "    <tr>\n",
              "      <th>5873</th>\n",
              "      <td>In addition to difficulties linked to implemen...</td>\n",
              "      <td>15</td>\n",
              "    </tr>\n",
              "    <tr>\n",
              "      <th>12181</th>\n",
              "      <td>The lack of knowledge on such transfrontier mi...</td>\n",
              "      <td>15</td>\n",
              "    </tr>\n",
              "    <tr>\n",
              "      <th>26832</th>\n",
              "      <td>The EU is also a major destination for Bosnia ...</td>\n",
              "      <td>15</td>\n",
              "    </tr>\n",
              "    <tr>\n",
              "      <th>26654</th>\n",
              "      <td>Some of the indicators compile information abo...</td>\n",
              "      <td>15</td>\n",
              "    </tr>\n",
              "    <tr>\n",
              "      <th>9119</th>\n",
              "      <td>A new Forestry Act (LMD 2005] was approved in ...</td>\n",
              "      <td>15</td>\n",
              "    </tr>\n",
              "    <tr>\n",
              "      <th>14285</th>\n",
              "      <td>The same is true for farmland: high-yield crop...</td>\n",
              "      <td>15</td>\n",
              "    </tr>\n",
              "    <tr>\n",
              "      <th>23366</th>\n",
              "      <td>Circassian walnut (Juglans regia), occupies a ...</td>\n",
              "      <td>15</td>\n",
              "    </tr>\n",
              "    <tr>\n",
              "      <th>19669</th>\n",
              "      <td>This is the most demanding use of values and r...</td>\n",
              "      <td>15</td>\n",
              "    </tr>\n",
              "    <tr>\n",
              "      <th>28995</th>\n",
              "      <td>There is no socialisation of the forest.” Inde...</td>\n",
              "      <td>15</td>\n",
              "    </tr>\n",
              "  </tbody>\n",
              "</table>\n",
              "</div>"
            ],
            "text/plain": [
              "                                                    text  sdg\n",
              "30778  The Law regulates breeding, protection, huntin...   15\n",
              "5873   In addition to difficulties linked to implemen...   15\n",
              "12181  The lack of knowledge on such transfrontier mi...   15\n",
              "26832  The EU is also a major destination for Bosnia ...   15\n",
              "26654  Some of the indicators compile information abo...   15\n",
              "9119   A new Forestry Act (LMD 2005] was approved in ...   15\n",
              "14285  The same is true for farmland: high-yield crop...   15\n",
              "23366  Circassian walnut (Juglans regia), occupies a ...   15\n",
              "19669  This is the most demanding use of values and r...   15\n",
              "28995  There is no socialisation of the forest.” Inde...   15"
            ]
          },
          "metadata": {},
          "execution_count": 32
        }
      ]
    },
    {
      "cell_type": "code",
      "metadata": {
        "id": "DnWFGfd2xefA",
        "colab": {
          "base_uri": "https://localhost:8080/",
          "height": 363
        },
        "outputId": "cba02fe4-488b-474b-b081-9c29e1ba13ec"
      },
      "source": [
        "osmodel.loc[osmodel.sdg == 10].sample(10)[['text','sdg']]\n",
        "osmodel.loc[osmodel.sdg == 11].sample(10)[['text','sdg']]\n",
        "                                            "
      ],
      "execution_count": 33,
      "outputs": [
        {
          "output_type": "execute_result",
          "data": {
            "text/html": [
              "<div>\n",
              "<style scoped>\n",
              "    .dataframe tbody tr th:only-of-type {\n",
              "        vertical-align: middle;\n",
              "    }\n",
              "\n",
              "    .dataframe tbody tr th {\n",
              "        vertical-align: top;\n",
              "    }\n",
              "\n",
              "    .dataframe thead th {\n",
              "        text-align: right;\n",
              "    }\n",
              "</style>\n",
              "<table border=\"1\" class=\"dataframe\">\n",
              "  <thead>\n",
              "    <tr style=\"text-align: right;\">\n",
              "      <th></th>\n",
              "      <th>text</th>\n",
              "      <th>sdg</th>\n",
              "    </tr>\n",
              "  </thead>\n",
              "  <tbody>\n",
              "    <tr>\n",
              "      <th>11798</th>\n",
              "      <td>The house is the space where children spend mo...</td>\n",
              "      <td>11</td>\n",
              "    </tr>\n",
              "    <tr>\n",
              "      <th>32100</th>\n",
              "      <td>In travel time figures, markers refer to avera...</td>\n",
              "      <td>11</td>\n",
              "    </tr>\n",
              "    <tr>\n",
              "      <th>5226</th>\n",
              "      <td>In the interest of effective transport plannin...</td>\n",
              "      <td>11</td>\n",
              "    </tr>\n",
              "    <tr>\n",
              "      <th>7170</th>\n",
              "      <td>Vehicle and service improvements in the system...</td>\n",
              "      <td>11</td>\n",
              "    </tr>\n",
              "    <tr>\n",
              "      <th>27818</th>\n",
              "      <td>This is the concept of risk and is computed as...</td>\n",
              "      <td>11</td>\n",
              "    </tr>\n",
              "    <tr>\n",
              "      <th>13400</th>\n",
              "      <td>What is essential about these is that they hav...</td>\n",
              "      <td>11</td>\n",
              "    </tr>\n",
              "    <tr>\n",
              "      <th>26381</th>\n",
              "      <td>Of Kaskelen’s employed population, 31% commute...</td>\n",
              "      <td>11</td>\n",
              "    </tr>\n",
              "    <tr>\n",
              "      <th>24131</th>\n",
              "      <td>In the urban core and surrounding districts, a...</td>\n",
              "      <td>11</td>\n",
              "    </tr>\n",
              "    <tr>\n",
              "      <th>15065</th>\n",
              "      <td>These forward looking analyses suggest that ne...</td>\n",
              "      <td>11</td>\n",
              "    </tr>\n",
              "    <tr>\n",
              "      <th>4835</th>\n",
              "      <td>This was not an issue when Clermont-Ferrand wa...</td>\n",
              "      <td>11</td>\n",
              "    </tr>\n",
              "  </tbody>\n",
              "</table>\n",
              "</div>"
            ],
            "text/plain": [
              "                                                    text  sdg\n",
              "11798  The house is the space where children spend mo...   11\n",
              "32100  In travel time figures, markers refer to avera...   11\n",
              "5226   In the interest of effective transport plannin...   11\n",
              "7170   Vehicle and service improvements in the system...   11\n",
              "27818  This is the concept of risk and is computed as...   11\n",
              "13400  What is essential about these is that they hav...   11\n",
              "26381  Of Kaskelen’s employed population, 31% commute...   11\n",
              "24131  In the urban core and surrounding districts, a...   11\n",
              "15065  These forward looking analyses suggest that ne...   11\n",
              "4835   This was not an issue when Clermont-Ferrand wa...   11"
            ]
          },
          "metadata": {},
          "execution_count": 33
        }
      ]
    },
    {
      "cell_type": "code",
      "metadata": {
        "id": "4ek7T94P0kle",
        "colab": {
          "base_uri": "https://localhost:8080/"
        },
        "outputId": "c620bef1-08e6-4ab5-c482-b1bfab6e22fd"
      },
      "source": [
        "from sklearn.linear_model import SGDClassifier\n",
        "from sklearn.feature_extraction.text import TfidfTransformer\n",
        "\n",
        "pipelinesgd = Pipeline([\n",
        "    ('vect', CountVectorizer()),\n",
        "    ('tfidf', TfidfTransformer()),\n",
        "    ('selector', SelectKBest(f_classif, k = 5_000)),\n",
        "    ('clf', SGDClassifier(loss='hinge', penalty='l2',alpha=1e-3, random_state=42, max_iter=5, tol=None))\n",
        "    \n",
        "])\n",
        "pipelinesgd.fit(x_train,y_train)\n",
        "\n",
        "yhat = pipelinesgd.predict(x_test)\n",
        "confusion_matrix(y_test,yhat)\n",
        "print(classification_report(y_test, yhat,zero_division = 0))"
      ],
      "execution_count": 34,
      "outputs": [
        {
          "output_type": "stream",
          "name": "stdout",
          "text": [
            "              precision    recall  f1-score   support\n",
            "\n",
            "           1       0.82      0.82      0.82       337\n",
            "           2       0.82      0.80      0.81       256\n",
            "           3       0.89      0.93      0.91       572\n",
            "           4       0.85      0.97      0.90       701\n",
            "           5       0.85      0.97      0.90       697\n",
            "           6       0.84      0.94      0.89       388\n",
            "           7       0.86      0.92      0.89       476\n",
            "           8       0.75      0.49      0.59       245\n",
            "           9       0.84      0.53      0.65       211\n",
            "          10       0.98      0.33      0.49       126\n",
            "          11       0.84      0.84      0.84       379\n",
            "          12       0.94      0.44      0.60        77\n",
            "          13       0.80      0.86      0.83       310\n",
            "          14       0.92      0.89      0.91       220\n",
            "          15       0.90      0.78      0.83       175\n",
            "\n",
            "    accuracy                           0.85      5170\n",
            "   macro avg       0.86      0.77      0.79      5170\n",
            "weighted avg       0.85      0.85      0.84      5170\n",
            "\n"
          ]
        }
      ]
    },
    {
      "cell_type": "code",
      "metadata": {
        "id": "v1dWW9WPESe5",
        "colab": {
          "base_uri": "https://localhost:8080/"
        },
        "outputId": "1d052d2f-ea46-49c5-addc-470cfe82b8b8"
      },
      "source": [
        "from sklearn.naive_bayes import MultinomialNB\n",
        "pipelinebayes = Pipeline([\n",
        "    ('vectoriser', TfidfVectorizer(\n",
        "        ngram_range = (1, 2),\n",
        "        max_df = 0.75,\n",
        "        min_df = 2,\n",
        "        max_features = 100_000\n",
        "    )),\n",
        "    ('selector', SelectKBest(f_classif, k = 5_000)),\n",
        "    ('clf', MultinomialNB()\n",
        "    )\n",
        "])\n",
        "pipelinebayes.fit(x_train,y_train)\n",
        "yhat = pipelinebayes.predict(x_test)\n",
        "pred3 = yhat\n",
        "confusion_matrix(y_test, yhat)\n",
        "print(classification_report(y_test, yhat, zero_division = 0))"
      ],
      "execution_count": 35,
      "outputs": [
        {
          "output_type": "stream",
          "name": "stdout",
          "text": [
            "              precision    recall  f1-score   support\n",
            "\n",
            "           1       0.80      0.71      0.75       337\n",
            "           2       0.92      0.56      0.70       256\n",
            "           3       0.89      0.89      0.89       572\n",
            "           4       0.67      0.97      0.80       701\n",
            "           5       0.61      0.97      0.75       697\n",
            "           6       0.78      0.89      0.83       388\n",
            "           7       0.66      0.93      0.77       476\n",
            "           8       0.82      0.13      0.22       245\n",
            "           9       1.00      0.13      0.23       211\n",
            "          10       0.00      0.00      0.00       126\n",
            "          11       0.86      0.78      0.82       379\n",
            "          12       1.00      0.01      0.03        77\n",
            "          13       0.79      0.79      0.79       310\n",
            "          14       0.97      0.58      0.72       220\n",
            "          15       0.98      0.31      0.48       175\n",
            "\n",
            "    accuracy                           0.74      5170\n",
            "   macro avg       0.78      0.58      0.58      5170\n",
            "weighted avg       0.77      0.74      0.70      5170\n",
            "\n"
          ]
        }
      ]
    },
    {
      "cell_type": "code",
      "metadata": {
        "id": "dADT3Ap0IwZV",
        "colab": {
          "base_uri": "https://localhost:8080/"
        },
        "outputId": "fdbd37ed-888a-4a7b-ff4a-69c0183d20a1"
      },
      "source": [
        "from sklearn.linear_model import SGDClassifier\n",
        "from sklearn.feature_extraction.text import TfidfTransformer\n",
        "\n",
        "pipelinesgdclass = Pipeline([\n",
        "    ('vect', CountVectorizer()),\n",
        "    ('tfidf', TfidfTransformer()),\n",
        "    ('selector', SelectKBest(f_classif, k = 5_000)),\n",
        "    ('clf', SGDClassifier(loss='hinge', penalty='l2',alpha=1e-3, random_state=42, max_iter=5, tol=None))\n",
        "    \n",
        "])\n",
        "\n",
        "pipelinesgdclass.fit(x_train, y_train)\n",
        "\n",
        "y_hat = pipelinesgdclass.predict(x_test)\n",
        "pred1 = y_hat\n",
        "confusion_matrix(y_test, yhat)\n",
        "\n",
        "print(classification_report(y_test, yhat, zero_division = 0))"
      ],
      "execution_count": 36,
      "outputs": [
        {
          "output_type": "stream",
          "name": "stdout",
          "text": [
            "              precision    recall  f1-score   support\n",
            "\n",
            "           1       0.80      0.71      0.75       337\n",
            "           2       0.92      0.56      0.70       256\n",
            "           3       0.89      0.89      0.89       572\n",
            "           4       0.67      0.97      0.80       701\n",
            "           5       0.61      0.97      0.75       697\n",
            "           6       0.78      0.89      0.83       388\n",
            "           7       0.66      0.93      0.77       476\n",
            "           8       0.82      0.13      0.22       245\n",
            "           9       1.00      0.13      0.23       211\n",
            "          10       0.00      0.00      0.00       126\n",
            "          11       0.86      0.78      0.82       379\n",
            "          12       1.00      0.01      0.03        77\n",
            "          13       0.79      0.79      0.79       310\n",
            "          14       0.97      0.58      0.72       220\n",
            "          15       0.98      0.31      0.48       175\n",
            "\n",
            "    accuracy                           0.74      5170\n",
            "   macro avg       0.78      0.58      0.58      5170\n",
            "weighted avg       0.77      0.74      0.70      5170\n",
            "\n"
          ]
        }
      ]
    },
    {
      "cell_type": "code",
      "metadata": {
        "id": "qyEzkrR-JYIz",
        "colab": {
          "base_uri": "https://localhost:8080/"
        },
        "outputId": "da5cbb3b-80a7-46dd-d8f7-e376e9cdec32"
      },
      "source": [
        "logisticpipeline = Pipeline([\n",
        "    ('vect', CountVectorizer()),\n",
        "    ('tfidf', TfidfTransformer()),\n",
        "    ('selector', SelectKBest(f_classif, k = 5_000)),\n",
        "    ('clf', LogisticRegression(\n",
        "        penalty = 'l2',\n",
        "        C = .9,\n",
        "        multi_class = 'multinomial',\n",
        "        class_weight = 'balanced',\n",
        "        random_state = 42,\n",
        "        solver = 'newton-cg',\n",
        "        max_iter = 100\n",
        "    ))  \n",
        "])\n",
        "logisticpipeline.fit(x_train,y_train)\n",
        "yhat = logisticpipeline.predict(x_test)\n",
        "pred2 = yhat\n",
        "confusion_matrix(y_test, yhat)\n",
        "print(classification_report(y_test, yhat,zero_division = 0))"
      ],
      "execution_count": 37,
      "outputs": [
        {
          "output_type": "stream",
          "name": "stdout",
          "text": [
            "              precision    recall  f1-score   support\n",
            "\n",
            "           1       0.89      0.78      0.83       337\n",
            "           2       0.83      0.88      0.86       256\n",
            "           3       0.93      0.90      0.92       572\n",
            "           4       0.94      0.91      0.93       701\n",
            "           5       0.93      0.91      0.92       697\n",
            "           6       0.93      0.89      0.91       388\n",
            "           7       0.92      0.87      0.90       476\n",
            "           8       0.62      0.69      0.65       245\n",
            "           9       0.63      0.79      0.70       211\n",
            "          10       0.51      0.65      0.57       126\n",
            "          11       0.86      0.82      0.84       379\n",
            "          12       0.56      0.74      0.64        77\n",
            "          13       0.85      0.87      0.86       310\n",
            "          14       0.95      0.91      0.93       220\n",
            "          15       0.82      0.83      0.82       175\n",
            "\n",
            "    accuracy                           0.86      5170\n",
            "   macro avg       0.81      0.83      0.82      5170\n",
            "weighted avg       0.87      0.86      0.86      5170\n",
            "\n"
          ]
        }
      ]
    },
    {
      "cell_type": "code",
      "metadata": {
        "colab": {
          "base_uri": "https://localhost:8080/"
        },
        "id": "dDtDYahK43bZ",
        "outputId": "351173d6-9582-49d5-e677-b003bbbc2142"
      },
      "source": [
        "randomforest = Pipeline([('vect', CountVectorizer(min_df=5, ngram_range=(1,2))),\n",
        "               ('tfidf', TfidfTransformer()),\n",
        "               ('rf', RandomForestClassifier(n_estimators=50)),\n",
        "               ])\n",
        "randomforest.fit(x_train,y_train)\n",
        "predict = randomforest.predict(x_test)\n",
        "print(classification_report(y_test,predict))"
      ],
      "execution_count": 38,
      "outputs": [
        {
          "output_type": "stream",
          "name": "stdout",
          "text": [
            "              precision    recall  f1-score   support\n",
            "\n",
            "           1       0.77      0.81      0.79       337\n",
            "           2       0.74      0.75      0.75       256\n",
            "           3       0.86      0.90      0.88       572\n",
            "           4       0.85      0.96      0.90       701\n",
            "           5       0.83      0.96      0.89       697\n",
            "           6       0.85      0.92      0.89       388\n",
            "           7       0.82      0.88      0.85       476\n",
            "           8       0.64      0.50      0.56       245\n",
            "           9       0.78      0.53      0.63       211\n",
            "          10       0.87      0.32      0.47       126\n",
            "          11       0.82      0.82      0.82       379\n",
            "          12       0.96      0.31      0.47        77\n",
            "          13       0.79      0.83      0.81       310\n",
            "          14       0.94      0.86      0.90       220\n",
            "          15       0.92      0.61      0.74       175\n",
            "\n",
            "    accuracy                           0.82      5170\n",
            "   macro avg       0.83      0.73      0.76      5170\n",
            "weighted avg       0.82      0.82      0.81      5170\n",
            "\n"
          ]
        }
      ]
    },
    {
      "cell_type": "code",
      "metadata": {
        "id": "S8RasAjU6ETL",
        "colab": {
          "base_uri": "https://localhost:8080/"
        },
        "outputId": "2f5f3172-ccd6-495b-9b4e-afdf3305b541"
      },
      "source": [
        "gradientboostmodel = Pipeline([('vect', CountVectorizer(min_df=5, ngram_range=(1,2))),\n",
        "                    ('tfidf', TfidfTransformer()),\n",
        "                    ('gb', GradientBoostingClassifier(n_estimators=50)),\n",
        "                    ])\n",
        "\n",
        "gradientboostmodel.fit(x_train, y_train)\n",
        "pred = gradientboostmodel.predict(x_test)\n",
        "print(classification_report(y_test, pred))"
      ],
      "execution_count": 41,
      "outputs": [
        {
          "output_type": "stream",
          "name": "stdout",
          "text": [
            "              precision    recall  f1-score   support\n",
            "\n",
            "           1       0.80      0.81      0.80       337\n",
            "           2       0.82      0.76      0.79       256\n",
            "           3       0.77      0.89      0.83       572\n",
            "           4       0.89      0.92      0.90       701\n",
            "           5       0.88      0.94      0.91       697\n",
            "           6       0.83      0.92      0.88       388\n",
            "           7       0.88      0.85      0.86       476\n",
            "           8       0.60      0.58      0.59       245\n",
            "           9       0.76      0.56      0.64       211\n",
            "          10       0.59      0.43      0.50       126\n",
            "          11       0.80      0.78      0.79       379\n",
            "          12       0.57      0.42      0.48        77\n",
            "          13       0.76      0.81      0.78       310\n",
            "          14       0.96      0.83      0.89       220\n",
            "          15       0.86      0.69      0.76       175\n",
            "\n",
            "    accuracy                           0.82      5170\n",
            "   macro avg       0.78      0.74      0.76      5170\n",
            "weighted avg       0.82      0.82      0.81      5170\n",
            "\n"
          ]
        }
      ]
    },
    {
      "cell_type": "code",
      "metadata": {
        "id": "m_Yytda29bBY",
        "colab": {
          "base_uri": "https://localhost:8080/"
        },
        "outputId": "e152df23-2ddf-470a-cdb0-3664332f96d0"
      },
      "source": [
        "#now after getting al the accuracies let us compare which classifier is having good classification\n",
        "log_accuracy = accuracy_score(pred2, y_test)\n",
        "sgd_accuracy = accuracy_score(pred1, y_test)\n",
        "naivebayes_accuracy = accuracy_score(pred3, y_test)\n",
        "randomforest_accuracy = accuracy_score(predict, y_test)\n",
        "gradientboost_accuracy = accuracy_score(pred, y_test)\n",
        "print(log_accuracy)\n",
        "print(sgd_accuracy)\n",
        "print(naivebayes_accuracy)\n",
        "print(randomforest_accuracy)\n",
        "print(gradientboost_accuracy)\n"
      ],
      "execution_count": 45,
      "outputs": [
        {
          "output_type": "stream",
          "name": "stdout",
          "text": [
            "0.8586073500967119\n",
            "0.8491295938104448\n",
            "0.7390715667311412\n",
            "0.8237911025145068\n",
            "0.8187620889748549\n"
          ]
        }
      ]
    },
    {
      "cell_type": "markdown",
      "metadata": {
        "id": "LzRLc0cLaEVw"
      },
      "source": [
        "so by this we cans see that logistic is having more accuracy\n"
      ]
    },
    {
      "cell_type": "code",
      "metadata": {
        "id": "ZtJKYPvxKmoT",
        "colab": {
          "base_uri": "https://localhost:8080/"
        },
        "outputId": "8188db11-9d35-4f9f-bf56-b9c983b0f020"
      },
      "source": [
        "osmodel['docs'] = preprocess_spacy(osmodel['text'].values)\n"
      ],
      "execution_count": 43,
      "outputs": [
        {
          "output_type": "stream",
          "name": "stderr",
          "text": [
            "17233it [02:09, 133.50it/s]\n"
          ]
        }
      ]
    },
    {
      "cell_type": "code",
      "metadata": {
        "id": "4j5COO5yfDyT"
      },
      "source": [
        ""
      ],
      "execution_count": null,
      "outputs": []
    },
    {
      "cell_type": "code",
      "metadata": {
        "id": "Q7s5GMcAhdC_"
      },
      "source": [
        "\n"
      ],
      "execution_count": null,
      "outputs": []
    },
    {
      "cell_type": "code",
      "metadata": {
        "id": "_u3lakgThw6O"
      },
      "source": [
        ""
      ],
      "execution_count": null,
      "outputs": []
    }
  ]
}